{
  "nbformat": 4,
  "nbformat_minor": 0,
  "metadata": {
    "colab": {
      "provenance": []
    },
    "kernelspec": {
      "name": "python3",
      "display_name": "Python 3"
    },
    "language_info": {
      "name": "python"
    }
  },
  "cells": [
    {
      "cell_type": "markdown",
      "source": [
        "# Leave-One-Out Cross Validation (LOOCV)"
      ],
      "metadata": {
        "id": "CI20mYtSrfU9"
      }
    },
    {
      "cell_type": "code",
      "source": [
        "from sklearn.datasets import load_diabetes\n",
        "from sklearn.model_selection import LeaveOneOut, cross_val_score\n",
        "from sklearn.linear_model import LinearRegression\n",
        "from sklearn.metrics import mean_squared_error, make_scorer\n",
        "import numpy as np"
      ],
      "metadata": {
        "id": "Yc0NiXrlrASd"
      },
      "execution_count": 1,
      "outputs": []
    },
    {
      "cell_type": "code",
      "source": [
        "data = load_diabetes()"
      ],
      "metadata": {
        "id": "q_JVzthOrAWT"
      },
      "execution_count": 2,
      "outputs": []
    },
    {
      "cell_type": "code",
      "source": [
        "X = data.data\n",
        "y = data.target"
      ],
      "metadata": {
        "id": "q5pxn0qHrAaj"
      },
      "execution_count": 3,
      "outputs": []
    },
    {
      "cell_type": "code",
      "source": [
        "model = LinearRegression()\n",
        "model"
      ],
      "metadata": {
        "colab": {
          "base_uri": "https://localhost:8080/",
          "height": 80
        },
        "id": "x87Ll951rAfF",
        "outputId": "0df2a0db-aa1f-4a79-94ea-b9e0d519744e"
      },
      "execution_count": 4,
      "outputs": [
        {
          "output_type": "execute_result",
          "data": {
            "text/plain": [
              "LinearRegression()"
            ],
            "text/html": [
              "<style>#sk-container-id-1 {\n",
              "  /* Definition of color scheme common for light and dark mode */\n",
              "  --sklearn-color-text: #000;\n",
              "  --sklearn-color-text-muted: #666;\n",
              "  --sklearn-color-line: gray;\n",
              "  /* Definition of color scheme for unfitted estimators */\n",
              "  --sklearn-color-unfitted-level-0: #fff5e6;\n",
              "  --sklearn-color-unfitted-level-1: #f6e4d2;\n",
              "  --sklearn-color-unfitted-level-2: #ffe0b3;\n",
              "  --sklearn-color-unfitted-level-3: chocolate;\n",
              "  /* Definition of color scheme for fitted estimators */\n",
              "  --sklearn-color-fitted-level-0: #f0f8ff;\n",
              "  --sklearn-color-fitted-level-1: #d4ebff;\n",
              "  --sklearn-color-fitted-level-2: #b3dbfd;\n",
              "  --sklearn-color-fitted-level-3: cornflowerblue;\n",
              "\n",
              "  /* Specific color for light theme */\n",
              "  --sklearn-color-text-on-default-background: var(--sg-text-color, var(--theme-code-foreground, var(--jp-content-font-color1, black)));\n",
              "  --sklearn-color-background: var(--sg-background-color, var(--theme-background, var(--jp-layout-color0, white)));\n",
              "  --sklearn-color-border-box: var(--sg-text-color, var(--theme-code-foreground, var(--jp-content-font-color1, black)));\n",
              "  --sklearn-color-icon: #696969;\n",
              "\n",
              "  @media (prefers-color-scheme: dark) {\n",
              "    /* Redefinition of color scheme for dark theme */\n",
              "    --sklearn-color-text-on-default-background: var(--sg-text-color, var(--theme-code-foreground, var(--jp-content-font-color1, white)));\n",
              "    --sklearn-color-background: var(--sg-background-color, var(--theme-background, var(--jp-layout-color0, #111)));\n",
              "    --sklearn-color-border-box: var(--sg-text-color, var(--theme-code-foreground, var(--jp-content-font-color1, white)));\n",
              "    --sklearn-color-icon: #878787;\n",
              "  }\n",
              "}\n",
              "\n",
              "#sk-container-id-1 {\n",
              "  color: var(--sklearn-color-text);\n",
              "}\n",
              "\n",
              "#sk-container-id-1 pre {\n",
              "  padding: 0;\n",
              "}\n",
              "\n",
              "#sk-container-id-1 input.sk-hidden--visually {\n",
              "  border: 0;\n",
              "  clip: rect(1px 1px 1px 1px);\n",
              "  clip: rect(1px, 1px, 1px, 1px);\n",
              "  height: 1px;\n",
              "  margin: -1px;\n",
              "  overflow: hidden;\n",
              "  padding: 0;\n",
              "  position: absolute;\n",
              "  width: 1px;\n",
              "}\n",
              "\n",
              "#sk-container-id-1 div.sk-dashed-wrapped {\n",
              "  border: 1px dashed var(--sklearn-color-line);\n",
              "  margin: 0 0.4em 0.5em 0.4em;\n",
              "  box-sizing: border-box;\n",
              "  padding-bottom: 0.4em;\n",
              "  background-color: var(--sklearn-color-background);\n",
              "}\n",
              "\n",
              "#sk-container-id-1 div.sk-container {\n",
              "  /* jupyter's `normalize.less` sets `[hidden] { display: none; }`\n",
              "     but bootstrap.min.css set `[hidden] { display: none !important; }`\n",
              "     so we also need the `!important` here to be able to override the\n",
              "     default hidden behavior on the sphinx rendered scikit-learn.org.\n",
              "     See: https://github.com/scikit-learn/scikit-learn/issues/21755 */\n",
              "  display: inline-block !important;\n",
              "  position: relative;\n",
              "}\n",
              "\n",
              "#sk-container-id-1 div.sk-text-repr-fallback {\n",
              "  display: none;\n",
              "}\n",
              "\n",
              "div.sk-parallel-item,\n",
              "div.sk-serial,\n",
              "div.sk-item {\n",
              "  /* draw centered vertical line to link estimators */\n",
              "  background-image: linear-gradient(var(--sklearn-color-text-on-default-background), var(--sklearn-color-text-on-default-background));\n",
              "  background-size: 2px 100%;\n",
              "  background-repeat: no-repeat;\n",
              "  background-position: center center;\n",
              "}\n",
              "\n",
              "/* Parallel-specific style estimator block */\n",
              "\n",
              "#sk-container-id-1 div.sk-parallel-item::after {\n",
              "  content: \"\";\n",
              "  width: 100%;\n",
              "  border-bottom: 2px solid var(--sklearn-color-text-on-default-background);\n",
              "  flex-grow: 1;\n",
              "}\n",
              "\n",
              "#sk-container-id-1 div.sk-parallel {\n",
              "  display: flex;\n",
              "  align-items: stretch;\n",
              "  justify-content: center;\n",
              "  background-color: var(--sklearn-color-background);\n",
              "  position: relative;\n",
              "}\n",
              "\n",
              "#sk-container-id-1 div.sk-parallel-item {\n",
              "  display: flex;\n",
              "  flex-direction: column;\n",
              "}\n",
              "\n",
              "#sk-container-id-1 div.sk-parallel-item:first-child::after {\n",
              "  align-self: flex-end;\n",
              "  width: 50%;\n",
              "}\n",
              "\n",
              "#sk-container-id-1 div.sk-parallel-item:last-child::after {\n",
              "  align-self: flex-start;\n",
              "  width: 50%;\n",
              "}\n",
              "\n",
              "#sk-container-id-1 div.sk-parallel-item:only-child::after {\n",
              "  width: 0;\n",
              "}\n",
              "\n",
              "/* Serial-specific style estimator block */\n",
              "\n",
              "#sk-container-id-1 div.sk-serial {\n",
              "  display: flex;\n",
              "  flex-direction: column;\n",
              "  align-items: center;\n",
              "  background-color: var(--sklearn-color-background);\n",
              "  padding-right: 1em;\n",
              "  padding-left: 1em;\n",
              "}\n",
              "\n",
              "\n",
              "/* Toggleable style: style used for estimator/Pipeline/ColumnTransformer box that is\n",
              "clickable and can be expanded/collapsed.\n",
              "- Pipeline and ColumnTransformer use this feature and define the default style\n",
              "- Estimators will overwrite some part of the style using the `sk-estimator` class\n",
              "*/\n",
              "\n",
              "/* Pipeline and ColumnTransformer style (default) */\n",
              "\n",
              "#sk-container-id-1 div.sk-toggleable {\n",
              "  /* Default theme specific background. It is overwritten whether we have a\n",
              "  specific estimator or a Pipeline/ColumnTransformer */\n",
              "  background-color: var(--sklearn-color-background);\n",
              "}\n",
              "\n",
              "/* Toggleable label */\n",
              "#sk-container-id-1 label.sk-toggleable__label {\n",
              "  cursor: pointer;\n",
              "  display: flex;\n",
              "  width: 100%;\n",
              "  margin-bottom: 0;\n",
              "  padding: 0.5em;\n",
              "  box-sizing: border-box;\n",
              "  text-align: center;\n",
              "  align-items: start;\n",
              "  justify-content: space-between;\n",
              "  gap: 0.5em;\n",
              "}\n",
              "\n",
              "#sk-container-id-1 label.sk-toggleable__label .caption {\n",
              "  font-size: 0.6rem;\n",
              "  font-weight: lighter;\n",
              "  color: var(--sklearn-color-text-muted);\n",
              "}\n",
              "\n",
              "#sk-container-id-1 label.sk-toggleable__label-arrow:before {\n",
              "  /* Arrow on the left of the label */\n",
              "  content: \"▸\";\n",
              "  float: left;\n",
              "  margin-right: 0.25em;\n",
              "  color: var(--sklearn-color-icon);\n",
              "}\n",
              "\n",
              "#sk-container-id-1 label.sk-toggleable__label-arrow:hover:before {\n",
              "  color: var(--sklearn-color-text);\n",
              "}\n",
              "\n",
              "/* Toggleable content - dropdown */\n",
              "\n",
              "#sk-container-id-1 div.sk-toggleable__content {\n",
              "  max-height: 0;\n",
              "  max-width: 0;\n",
              "  overflow: hidden;\n",
              "  text-align: left;\n",
              "  /* unfitted */\n",
              "  background-color: var(--sklearn-color-unfitted-level-0);\n",
              "}\n",
              "\n",
              "#sk-container-id-1 div.sk-toggleable__content.fitted {\n",
              "  /* fitted */\n",
              "  background-color: var(--sklearn-color-fitted-level-0);\n",
              "}\n",
              "\n",
              "#sk-container-id-1 div.sk-toggleable__content pre {\n",
              "  margin: 0.2em;\n",
              "  border-radius: 0.25em;\n",
              "  color: var(--sklearn-color-text);\n",
              "  /* unfitted */\n",
              "  background-color: var(--sklearn-color-unfitted-level-0);\n",
              "}\n",
              "\n",
              "#sk-container-id-1 div.sk-toggleable__content.fitted pre {\n",
              "  /* unfitted */\n",
              "  background-color: var(--sklearn-color-fitted-level-0);\n",
              "}\n",
              "\n",
              "#sk-container-id-1 input.sk-toggleable__control:checked~div.sk-toggleable__content {\n",
              "  /* Expand drop-down */\n",
              "  max-height: 200px;\n",
              "  max-width: 100%;\n",
              "  overflow: auto;\n",
              "}\n",
              "\n",
              "#sk-container-id-1 input.sk-toggleable__control:checked~label.sk-toggleable__label-arrow:before {\n",
              "  content: \"▾\";\n",
              "}\n",
              "\n",
              "/* Pipeline/ColumnTransformer-specific style */\n",
              "\n",
              "#sk-container-id-1 div.sk-label input.sk-toggleable__control:checked~label.sk-toggleable__label {\n",
              "  color: var(--sklearn-color-text);\n",
              "  background-color: var(--sklearn-color-unfitted-level-2);\n",
              "}\n",
              "\n",
              "#sk-container-id-1 div.sk-label.fitted input.sk-toggleable__control:checked~label.sk-toggleable__label {\n",
              "  background-color: var(--sklearn-color-fitted-level-2);\n",
              "}\n",
              "\n",
              "/* Estimator-specific style */\n",
              "\n",
              "/* Colorize estimator box */\n",
              "#sk-container-id-1 div.sk-estimator input.sk-toggleable__control:checked~label.sk-toggleable__label {\n",
              "  /* unfitted */\n",
              "  background-color: var(--sklearn-color-unfitted-level-2);\n",
              "}\n",
              "\n",
              "#sk-container-id-1 div.sk-estimator.fitted input.sk-toggleable__control:checked~label.sk-toggleable__label {\n",
              "  /* fitted */\n",
              "  background-color: var(--sklearn-color-fitted-level-2);\n",
              "}\n",
              "\n",
              "#sk-container-id-1 div.sk-label label.sk-toggleable__label,\n",
              "#sk-container-id-1 div.sk-label label {\n",
              "  /* The background is the default theme color */\n",
              "  color: var(--sklearn-color-text-on-default-background);\n",
              "}\n",
              "\n",
              "/* On hover, darken the color of the background */\n",
              "#sk-container-id-1 div.sk-label:hover label.sk-toggleable__label {\n",
              "  color: var(--sklearn-color-text);\n",
              "  background-color: var(--sklearn-color-unfitted-level-2);\n",
              "}\n",
              "\n",
              "/* Label box, darken color on hover, fitted */\n",
              "#sk-container-id-1 div.sk-label.fitted:hover label.sk-toggleable__label.fitted {\n",
              "  color: var(--sklearn-color-text);\n",
              "  background-color: var(--sklearn-color-fitted-level-2);\n",
              "}\n",
              "\n",
              "/* Estimator label */\n",
              "\n",
              "#sk-container-id-1 div.sk-label label {\n",
              "  font-family: monospace;\n",
              "  font-weight: bold;\n",
              "  display: inline-block;\n",
              "  line-height: 1.2em;\n",
              "}\n",
              "\n",
              "#sk-container-id-1 div.sk-label-container {\n",
              "  text-align: center;\n",
              "}\n",
              "\n",
              "/* Estimator-specific */\n",
              "#sk-container-id-1 div.sk-estimator {\n",
              "  font-family: monospace;\n",
              "  border: 1px dotted var(--sklearn-color-border-box);\n",
              "  border-radius: 0.25em;\n",
              "  box-sizing: border-box;\n",
              "  margin-bottom: 0.5em;\n",
              "  /* unfitted */\n",
              "  background-color: var(--sklearn-color-unfitted-level-0);\n",
              "}\n",
              "\n",
              "#sk-container-id-1 div.sk-estimator.fitted {\n",
              "  /* fitted */\n",
              "  background-color: var(--sklearn-color-fitted-level-0);\n",
              "}\n",
              "\n",
              "/* on hover */\n",
              "#sk-container-id-1 div.sk-estimator:hover {\n",
              "  /* unfitted */\n",
              "  background-color: var(--sklearn-color-unfitted-level-2);\n",
              "}\n",
              "\n",
              "#sk-container-id-1 div.sk-estimator.fitted:hover {\n",
              "  /* fitted */\n",
              "  background-color: var(--sklearn-color-fitted-level-2);\n",
              "}\n",
              "\n",
              "/* Specification for estimator info (e.g. \"i\" and \"?\") */\n",
              "\n",
              "/* Common style for \"i\" and \"?\" */\n",
              "\n",
              ".sk-estimator-doc-link,\n",
              "a:link.sk-estimator-doc-link,\n",
              "a:visited.sk-estimator-doc-link {\n",
              "  float: right;\n",
              "  font-size: smaller;\n",
              "  line-height: 1em;\n",
              "  font-family: monospace;\n",
              "  background-color: var(--sklearn-color-background);\n",
              "  border-radius: 1em;\n",
              "  height: 1em;\n",
              "  width: 1em;\n",
              "  text-decoration: none !important;\n",
              "  margin-left: 0.5em;\n",
              "  text-align: center;\n",
              "  /* unfitted */\n",
              "  border: var(--sklearn-color-unfitted-level-1) 1pt solid;\n",
              "  color: var(--sklearn-color-unfitted-level-1);\n",
              "}\n",
              "\n",
              ".sk-estimator-doc-link.fitted,\n",
              "a:link.sk-estimator-doc-link.fitted,\n",
              "a:visited.sk-estimator-doc-link.fitted {\n",
              "  /* fitted */\n",
              "  border: var(--sklearn-color-fitted-level-1) 1pt solid;\n",
              "  color: var(--sklearn-color-fitted-level-1);\n",
              "}\n",
              "\n",
              "/* On hover */\n",
              "div.sk-estimator:hover .sk-estimator-doc-link:hover,\n",
              ".sk-estimator-doc-link:hover,\n",
              "div.sk-label-container:hover .sk-estimator-doc-link:hover,\n",
              ".sk-estimator-doc-link:hover {\n",
              "  /* unfitted */\n",
              "  background-color: var(--sklearn-color-unfitted-level-3);\n",
              "  color: var(--sklearn-color-background);\n",
              "  text-decoration: none;\n",
              "}\n",
              "\n",
              "div.sk-estimator.fitted:hover .sk-estimator-doc-link.fitted:hover,\n",
              ".sk-estimator-doc-link.fitted:hover,\n",
              "div.sk-label-container:hover .sk-estimator-doc-link.fitted:hover,\n",
              ".sk-estimator-doc-link.fitted:hover {\n",
              "  /* fitted */\n",
              "  background-color: var(--sklearn-color-fitted-level-3);\n",
              "  color: var(--sklearn-color-background);\n",
              "  text-decoration: none;\n",
              "}\n",
              "\n",
              "/* Span, style for the box shown on hovering the info icon */\n",
              ".sk-estimator-doc-link span {\n",
              "  display: none;\n",
              "  z-index: 9999;\n",
              "  position: relative;\n",
              "  font-weight: normal;\n",
              "  right: .2ex;\n",
              "  padding: .5ex;\n",
              "  margin: .5ex;\n",
              "  width: min-content;\n",
              "  min-width: 20ex;\n",
              "  max-width: 50ex;\n",
              "  color: var(--sklearn-color-text);\n",
              "  box-shadow: 2pt 2pt 4pt #999;\n",
              "  /* unfitted */\n",
              "  background: var(--sklearn-color-unfitted-level-0);\n",
              "  border: .5pt solid var(--sklearn-color-unfitted-level-3);\n",
              "}\n",
              "\n",
              ".sk-estimator-doc-link.fitted span {\n",
              "  /* fitted */\n",
              "  background: var(--sklearn-color-fitted-level-0);\n",
              "  border: var(--sklearn-color-fitted-level-3);\n",
              "}\n",
              "\n",
              ".sk-estimator-doc-link:hover span {\n",
              "  display: block;\n",
              "}\n",
              "\n",
              "/* \"?\"-specific style due to the `<a>` HTML tag */\n",
              "\n",
              "#sk-container-id-1 a.estimator_doc_link {\n",
              "  float: right;\n",
              "  font-size: 1rem;\n",
              "  line-height: 1em;\n",
              "  font-family: monospace;\n",
              "  background-color: var(--sklearn-color-background);\n",
              "  border-radius: 1rem;\n",
              "  height: 1rem;\n",
              "  width: 1rem;\n",
              "  text-decoration: none;\n",
              "  /* unfitted */\n",
              "  color: var(--sklearn-color-unfitted-level-1);\n",
              "  border: var(--sklearn-color-unfitted-level-1) 1pt solid;\n",
              "}\n",
              "\n",
              "#sk-container-id-1 a.estimator_doc_link.fitted {\n",
              "  /* fitted */\n",
              "  border: var(--sklearn-color-fitted-level-1) 1pt solid;\n",
              "  color: var(--sklearn-color-fitted-level-1);\n",
              "}\n",
              "\n",
              "/* On hover */\n",
              "#sk-container-id-1 a.estimator_doc_link:hover {\n",
              "  /* unfitted */\n",
              "  background-color: var(--sklearn-color-unfitted-level-3);\n",
              "  color: var(--sklearn-color-background);\n",
              "  text-decoration: none;\n",
              "}\n",
              "\n",
              "#sk-container-id-1 a.estimator_doc_link.fitted:hover {\n",
              "  /* fitted */\n",
              "  background-color: var(--sklearn-color-fitted-level-3);\n",
              "}\n",
              "</style><div id=\"sk-container-id-1\" class=\"sk-top-container\"><div class=\"sk-text-repr-fallback\"><pre>LinearRegression()</pre><b>In a Jupyter environment, please rerun this cell to show the HTML representation or trust the notebook. <br />On GitHub, the HTML representation is unable to render, please try loading this page with nbviewer.org.</b></div><div class=\"sk-container\" hidden><div class=\"sk-item\"><div class=\"sk-estimator  sk-toggleable\"><input class=\"sk-toggleable__control sk-hidden--visually\" id=\"sk-estimator-id-1\" type=\"checkbox\" checked><label for=\"sk-estimator-id-1\" class=\"sk-toggleable__label  sk-toggleable__label-arrow\"><div><div>LinearRegression</div></div><div><a class=\"sk-estimator-doc-link \" rel=\"noreferrer\" target=\"_blank\" href=\"https://scikit-learn.org/1.6/modules/generated/sklearn.linear_model.LinearRegression.html\">?<span>Documentation for LinearRegression</span></a><span class=\"sk-estimator-doc-link \">i<span>Not fitted</span></span></div></label><div class=\"sk-toggleable__content \"><pre>LinearRegression()</pre></div> </div></div></div></div>"
            ]
          },
          "metadata": {},
          "execution_count": 4
        }
      ]
    },
    {
      "cell_type": "code",
      "source": [
        "loo = LeaveOneOut()\n",
        "loo"
      ],
      "metadata": {
        "colab": {
          "base_uri": "https://localhost:8080/"
        },
        "id": "Eh3GsVvWrAja",
        "outputId": "5879bfef-0f02-4f03-d478-1ff38954a459"
      },
      "execution_count": 5,
      "outputs": [
        {
          "output_type": "execute_result",
          "data": {
            "text/plain": [
              "LeaveOneOut()"
            ]
          },
          "metadata": {},
          "execution_count": 5
        }
      ]
    },
    {
      "cell_type": "code",
      "source": [
        "scores = cross_val_score(model, X, y, cv = loo, scoring = 'neg_mean_squared_error')\n",
        "scores"
      ],
      "metadata": {
        "colab": {
          "base_uri": "https://localhost:8080/"
        },
        "id": "1o1omVi0rAn1",
        "outputId": "39094b2e-e11a-483a-975a-5791866df72b"
      },
      "execution_count": 6,
      "outputs": [
        {
          "output_type": "execute_result",
          "data": {
            "text/plain": [
              "array([-3.14794770e+03, -5.02299665e+01, -1.35042062e+03, -1.58815516e+03,\n",
              "       -4.38697661e+01, -9.11699733e+01, -4.24824502e+03, -3.33559806e+03,\n",
              "       -2.48957190e+03, -9.76194482e+03, -1.66855156e+01, -7.68407579e+02,\n",
              "       -4.14895063e+03, -4.22060805e+02, -2.31972334e+02, -4.22803841e+01,\n",
              "       -2.18981772e+03, -1.55648697e+03, -2.65046078e+03, -1.97060676e+03,\n",
              "       -2.83484225e+03, -1.41962489e+03, -2.12459524e+03, -7.03852993e+01,\n",
              "       -3.53231928e+02, -3.05527315e+03, -1.68097280e+03, -9.21798795e+03,\n",
              "       -3.99838388e+00, -1.04949698e+04, -9.08667363e+02, -1.12902660e+02,\n",
              "       -7.28011691e+03, -7.27888365e+02, -1.84745380e+02, -2.28733361e+02,\n",
              "       -3.38746745e+03, -1.43795767e+04, -1.30290668e+02, -2.29802830e+03,\n",
              "       -2.99448445e+03, -3.87339145e+02, -7.37138863e+03, -2.17566968e+02,\n",
              "       -1.50755348e+03, -5.35929606e+03, -2.32211410e+03, -1.11355631e+03,\n",
              "       -3.59967517e+00, -2.37852472e+03, -8.83324664e+00, -3.16095842e+03,\n",
              "       -5.78275140e+03, -3.02113065e+03, -1.89721568e+03, -3.20673279e+03,\n",
              "       -2.50376863e+04, -1.92809521e+03, -5.15098550e+03, -1.30375625e+03,\n",
              "       -2.92061808e+03, -1.43176132e+03, -8.81172782e+01, -8.95773123e+02,\n",
              "       -1.91261056e+03, -7.67182136e+02, -1.07524319e+00, -7.61747157e+02,\n",
              "       -2.09199455e+03, -3.26367255e+03, -7.03698719e+02, -1.18394290e+03,\n",
              "       -3.89671229e+03, -1.86337395e+02, -4.54412170e+03, -7.53859123e+03,\n",
              "       -4.80659264e+02, -1.58508134e+04, -7.84678945e+03, -5.07852468e+02,\n",
              "       -1.04487205e+03, -5.26110818e+03, -1.33960159e+02, -3.45101270e+03,\n",
              "       -1.34681116e+02, -6.64951537e+02, -1.64483138e+02, -3.81542170e+02,\n",
              "       -1.58663197e+03, -1.73006177e+01, -3.39180159e+02, -5.60519666e+02,\n",
              "       -2.20632501e+04, -1.26112993e+03, -3.16836924e+02, -1.43766664e+03,\n",
              "       -3.41383363e+03, -4.42540974e+03, -1.02850380e+03, -3.31012695e+03,\n",
              "       -1.65997549e+03, -2.53653965e+01, -2.40203180e+04, -1.67677244e+03,\n",
              "       -3.50442628e+03, -4.09505637e+03, -3.87156668e+03, -1.45528869e+02,\n",
              "       -3.58296635e+00, -4.13174383e+03, -4.93047706e+03, -4.04686693e+03,\n",
              "       -8.95284263e+03, -8.17421572e+03, -1.19020756e+03, -1.68161448e+03,\n",
              "       -3.81568239e+03, -2.30603232e+03, -1.92668689e+02, -2.46049029e+03,\n",
              "       -1.93275525e+03, -7.75612022e+02, -1.59502547e+03, -9.57031580e+03,\n",
              "       -2.36423339e+03, -7.60214842e+02, -1.82158583e+03, -2.19513043e-01,\n",
              "       -5.11325642e+02, -3.43898733e+03, -8.77783932e+02, -8.09556718e+03,\n",
              "       -3.74769911e+01, -2.20307684e+02, -1.56118856e+03, -1.11885899e+03,\n",
              "       -7.38452875e+02, -2.07626666e+03, -6.93806157e+03, -7.97697650e+02,\n",
              "       -1.45141862e+03, -8.49647994e+03, -4.33498994e+03, -3.45196323e+03,\n",
              "       -2.13888425e+01, -3.90147290e+02, -1.56129481e+02, -1.05931940e+04,\n",
              "       -3.45796756e+02, -2.91906436e+03, -6.44368386e+03, -3.28386793e+03,\n",
              "       -8.98648072e+03, -2.63025161e+03, -2.22450608e+03, -1.77315244e+02,\n",
              "       -1.49225563e+04, -1.64101530e+03, -1.18885622e+02, -1.68591266e+03,\n",
              "       -8.79678660e+02, -2.20562678e+02, -7.88009792e+02, -4.54740114e+03,\n",
              "       -4.72720072e+03, -3.40346352e+02, -1.19252250e+02, -1.91702488e+03,\n",
              "       -1.95577320e+03, -5.84549074e+03, -1.74913551e-01, -2.06798869e+02,\n",
              "       -5.58007241e+03, -1.47117342e+01, -1.93170223e+02, -5.22052738e+01,\n",
              "       -6.39058983e+03, -3.85874831e+00, -3.55899086e+02, -2.26781402e+02,\n",
              "       -5.37870163e+03, -6.95052724e+02, -1.18828059e+03, -7.34612830e+02,\n",
              "       -4.15760158e+03, -7.67758451e+03, -3.94165649e+03, -6.13611249e+03,\n",
              "       -1.91586414e+02, -1.41899375e+03, -9.54935050e+03, -2.62228821e+03,\n",
              "       -4.35294626e-02, -6.30862750e+02, -5.09066973e+03, -2.31702104e+03,\n",
              "       -7.33779850e+02, -3.84397647e+03, -2.84005855e-01, -8.11459669e+03,\n",
              "       -4.11547759e+03, -9.37097737e+02, -1.10908355e+03, -5.88863943e+02,\n",
              "       -1.02942785e+04, -1.74647997e+04, -1.26903062e+03, -1.09610019e+02,\n",
              "       -4.86650782e+03, -9.62944431e+03, -4.50240665e+03, -1.15366994e+04,\n",
              "       -6.52251510e+03, -2.53145102e+03, -1.28175225e+03, -5.28376706e-01,\n",
              "       -6.47309407e+02, -5.83872427e+03, -6.74136715e+03, -1.63406158e+03,\n",
              "       -6.69083898e+02, -2.46192482e+03, -1.00683396e+04, -6.35970838e+02,\n",
              "       -6.61949698e-02, -5.13191782e+02, -3.80758493e+00, -8.18060153e+00,\n",
              "       -1.80108453e+03, -2.18332673e+03, -3.21610508e+03, -2.91209981e+01,\n",
              "       -1.03521891e+04, -2.96570156e+03, -2.15491487e+02, -2.90174086e+03,\n",
              "       -1.48539560e+04, -4.55321633e+01, -4.69584880e+03, -7.05701489e+03,\n",
              "       -1.65604873e+03, -3.44349185e+03, -2.27246291e+02, -2.97507603e+03,\n",
              "       -2.28176286e+03, -5.63833879e+02, -1.93824044e+03, -1.08533579e+03,\n",
              "       -5.89951901e+02, -9.38214037e+02, -1.66445651e+03, -1.09582403e+03,\n",
              "       -8.40803185e+03, -2.92714853e+03, -3.51354152e+03, -1.22513557e+03,\n",
              "       -6.67860100e+03, -1.82373977e+03, -7.78632209e+02, -8.55052453e+03,\n",
              "       -4.21605686e+02, -8.35633061e+02, -2.09058653e+03, -5.28343304e+03,\n",
              "       -4.95545163e+02, -3.36357934e+03, -1.12308467e+02, -5.78731346e+02,\n",
              "       -4.04949038e+02, -9.44406833e+00, -1.02472180e+02, -1.42588885e+03,\n",
              "       -1.23290436e+03, -2.61216825e+03, -1.25240329e+04, -4.26257741e+03,\n",
              "       -9.44416269e+03, -2.87762768e+03, -9.49406450e+01, -6.97304948e+03,\n",
              "       -1.00675918e+04, -1.55279293e+01, -8.58600247e+03, -9.60166850e+03,\n",
              "       -1.62593463e+01, -1.01665509e+03, -4.73624430e+02, -5.56603014e+03,\n",
              "       -9.53526975e-01, -1.61942616e+04, -1.27559376e+04, -2.10713736e+03,\n",
              "       -8.13904319e+01, -4.66699174e+02, -7.56899126e+02, -4.86810887e+03,\n",
              "       -1.55121459e+02, -4.61571471e+03, -5.11747850e+02, -1.70012253e+03,\n",
              "       -3.37309308e+03, -3.83823707e+03, -7.81165332e+01, -3.12733865e+01,\n",
              "       -1.83473656e+04, -1.44416862e+02, -6.96568999e+03, -5.74713728e+02,\n",
              "       -6.94080379e+02, -9.81738012e+00, -9.26743696e+03, -5.89183973e+01,\n",
              "       -4.53957979e+02, -2.66957797e+03, -7.93369342e+02, -1.75408460e+02,\n",
              "       -4.81715011e+02, -2.96281416e+02, -2.98860756e+03, -5.66571457e+00,\n",
              "       -5.01450871e+03, -3.32497944e+03, -1.82923063e+03, -1.23029841e+03,\n",
              "       -1.59740878e+03, -6.24065103e+02, -6.96080397e+02, -1.77730123e+02,\n",
              "       -1.28579117e+04, -1.02242746e+03, -4.43675515e+03, -7.98915348e+03,\n",
              "       -4.62339903e+02, -3.55048754e+02, -5.56005378e+01, -9.57746523e+01,\n",
              "       -3.56153841e+03, -7.18854338e+03, -8.77257836e+03, -2.74481245e+03,\n",
              "       -2.23848268e+03, -6.54968567e+03, -2.21595899e+02, -2.05807770e+03,\n",
              "       -3.25115297e+03, -1.94821499e+02, -1.56693498e+03, -2.86344403e+02,\n",
              "       -2.59294471e+02, -5.37099874e+01, -5.17113840e+01, -2.41206224e+02,\n",
              "       -2.52922924e+02, -2.93837210e+03, -6.79576346e+03, -5.62803344e+03,\n",
              "       -1.62078415e+03, -3.62392060e+02, -1.45712918e+03, -1.89453442e+04,\n",
              "       -7.21118863e+03, -4.29715513e+03, -7.69514810e+03, -1.18678140e+04,\n",
              "       -1.07735417e+04, -2.01794423e+03, -4.79664711e+02, -2.53496756e+02,\n",
              "       -5.81081265e+03, -2.99650415e+02, -1.99446449e+01, -7.81043188e+00,\n",
              "       -1.61713347e+03, -6.84662454e+02, -1.31628901e+02, -1.41711162e+03,\n",
              "       -8.62381790e+03, -4.47879877e+03, -6.66652982e+03, -9.75768996e+03,\n",
              "       -1.56971625e+04, -9.05099508e+02, -1.45995932e+04, -6.98216728e+02,\n",
              "       -1.92998579e+03, -6.42316794e+03, -1.46973388e+03, -1.31612431e+04,\n",
              "       -2.92470988e+03, -6.20644324e+02, -5.65315685e+02, -9.47348829e+01,\n",
              "       -3.98862904e+02, -1.02620957e+03, -2.53179706e+02, -7.89999718e+03,\n",
              "       -3.82173794e+02, -2.57436789e+02, -5.26697638e+03, -1.88398086e+03,\n",
              "       -1.59770149e+02, -3.61008838e+01, -4.12886492e+02, -5.86009741e+02,\n",
              "       -9.05228459e+03, -7.76435776e+00, -4.70031832e+02, -1.11106536e+03,\n",
              "       -2.45159132e+02, -4.90533328e+01, -2.72994367e+03, -2.21829187e+02,\n",
              "       -8.27804967e+02, -7.55337987e+01, -1.18478247e+03, -1.82341062e+00,\n",
              "       -9.74579251e+02, -9.43178262e+03, -2.39586845e+02, -1.53014247e+03,\n",
              "       -3.59886203e+01, -4.12384432e+02, -1.24285181e+03, -4.22839713e+03,\n",
              "       -3.77126775e+03, -1.67268885e+03, -1.89377031e+03, -4.08568680e+03,\n",
              "       -2.83969392e+03, -4.61623546e+01, -4.66708826e+03, -3.31205976e+03,\n",
              "       -2.14050312e+03, -1.29436295e+02, -6.94497850e+03, -3.13990131e+03,\n",
              "       -2.19405918e+01, -2.31708780e+02, -9.14997632e+00, -1.19290585e+02,\n",
              "       -6.81337198e+01, -1.45654636e+01])"
            ]
          },
          "metadata": {},
          "execution_count": 6
        }
      ]
    },
    {
      "cell_type": "code",
      "source": [
        "mse_scores = -scores\n",
        "mse_scores"
      ],
      "metadata": {
        "colab": {
          "base_uri": "https://localhost:8080/"
        },
        "id": "5H5wx1e2rAsg",
        "outputId": "0fa41fab-bf54-4e53-c9bc-012fd9a6d28a"
      },
      "execution_count": 8,
      "outputs": [
        {
          "output_type": "execute_result",
          "data": {
            "text/plain": [
              "array([3.14794770e+03, 5.02299665e+01, 1.35042062e+03, 1.58815516e+03,\n",
              "       4.38697661e+01, 9.11699733e+01, 4.24824502e+03, 3.33559806e+03,\n",
              "       2.48957190e+03, 9.76194482e+03, 1.66855156e+01, 7.68407579e+02,\n",
              "       4.14895063e+03, 4.22060805e+02, 2.31972334e+02, 4.22803841e+01,\n",
              "       2.18981772e+03, 1.55648697e+03, 2.65046078e+03, 1.97060676e+03,\n",
              "       2.83484225e+03, 1.41962489e+03, 2.12459524e+03, 7.03852993e+01,\n",
              "       3.53231928e+02, 3.05527315e+03, 1.68097280e+03, 9.21798795e+03,\n",
              "       3.99838388e+00, 1.04949698e+04, 9.08667363e+02, 1.12902660e+02,\n",
              "       7.28011691e+03, 7.27888365e+02, 1.84745380e+02, 2.28733361e+02,\n",
              "       3.38746745e+03, 1.43795767e+04, 1.30290668e+02, 2.29802830e+03,\n",
              "       2.99448445e+03, 3.87339145e+02, 7.37138863e+03, 2.17566968e+02,\n",
              "       1.50755348e+03, 5.35929606e+03, 2.32211410e+03, 1.11355631e+03,\n",
              "       3.59967517e+00, 2.37852472e+03, 8.83324664e+00, 3.16095842e+03,\n",
              "       5.78275140e+03, 3.02113065e+03, 1.89721568e+03, 3.20673279e+03,\n",
              "       2.50376863e+04, 1.92809521e+03, 5.15098550e+03, 1.30375625e+03,\n",
              "       2.92061808e+03, 1.43176132e+03, 8.81172782e+01, 8.95773123e+02,\n",
              "       1.91261056e+03, 7.67182136e+02, 1.07524319e+00, 7.61747157e+02,\n",
              "       2.09199455e+03, 3.26367255e+03, 7.03698719e+02, 1.18394290e+03,\n",
              "       3.89671229e+03, 1.86337395e+02, 4.54412170e+03, 7.53859123e+03,\n",
              "       4.80659264e+02, 1.58508134e+04, 7.84678945e+03, 5.07852468e+02,\n",
              "       1.04487205e+03, 5.26110818e+03, 1.33960159e+02, 3.45101270e+03,\n",
              "       1.34681116e+02, 6.64951537e+02, 1.64483138e+02, 3.81542170e+02,\n",
              "       1.58663197e+03, 1.73006177e+01, 3.39180159e+02, 5.60519666e+02,\n",
              "       2.20632501e+04, 1.26112993e+03, 3.16836924e+02, 1.43766664e+03,\n",
              "       3.41383363e+03, 4.42540974e+03, 1.02850380e+03, 3.31012695e+03,\n",
              "       1.65997549e+03, 2.53653965e+01, 2.40203180e+04, 1.67677244e+03,\n",
              "       3.50442628e+03, 4.09505637e+03, 3.87156668e+03, 1.45528869e+02,\n",
              "       3.58296635e+00, 4.13174383e+03, 4.93047706e+03, 4.04686693e+03,\n",
              "       8.95284263e+03, 8.17421572e+03, 1.19020756e+03, 1.68161448e+03,\n",
              "       3.81568239e+03, 2.30603232e+03, 1.92668689e+02, 2.46049029e+03,\n",
              "       1.93275525e+03, 7.75612022e+02, 1.59502547e+03, 9.57031580e+03,\n",
              "       2.36423339e+03, 7.60214842e+02, 1.82158583e+03, 2.19513043e-01,\n",
              "       5.11325642e+02, 3.43898733e+03, 8.77783932e+02, 8.09556718e+03,\n",
              "       3.74769911e+01, 2.20307684e+02, 1.56118856e+03, 1.11885899e+03,\n",
              "       7.38452875e+02, 2.07626666e+03, 6.93806157e+03, 7.97697650e+02,\n",
              "       1.45141862e+03, 8.49647994e+03, 4.33498994e+03, 3.45196323e+03,\n",
              "       2.13888425e+01, 3.90147290e+02, 1.56129481e+02, 1.05931940e+04,\n",
              "       3.45796756e+02, 2.91906436e+03, 6.44368386e+03, 3.28386793e+03,\n",
              "       8.98648072e+03, 2.63025161e+03, 2.22450608e+03, 1.77315244e+02,\n",
              "       1.49225563e+04, 1.64101530e+03, 1.18885622e+02, 1.68591266e+03,\n",
              "       8.79678660e+02, 2.20562678e+02, 7.88009792e+02, 4.54740114e+03,\n",
              "       4.72720072e+03, 3.40346352e+02, 1.19252250e+02, 1.91702488e+03,\n",
              "       1.95577320e+03, 5.84549074e+03, 1.74913551e-01, 2.06798869e+02,\n",
              "       5.58007241e+03, 1.47117342e+01, 1.93170223e+02, 5.22052738e+01,\n",
              "       6.39058983e+03, 3.85874831e+00, 3.55899086e+02, 2.26781402e+02,\n",
              "       5.37870163e+03, 6.95052724e+02, 1.18828059e+03, 7.34612830e+02,\n",
              "       4.15760158e+03, 7.67758451e+03, 3.94165649e+03, 6.13611249e+03,\n",
              "       1.91586414e+02, 1.41899375e+03, 9.54935050e+03, 2.62228821e+03,\n",
              "       4.35294626e-02, 6.30862750e+02, 5.09066973e+03, 2.31702104e+03,\n",
              "       7.33779850e+02, 3.84397647e+03, 2.84005855e-01, 8.11459669e+03,\n",
              "       4.11547759e+03, 9.37097737e+02, 1.10908355e+03, 5.88863943e+02,\n",
              "       1.02942785e+04, 1.74647997e+04, 1.26903062e+03, 1.09610019e+02,\n",
              "       4.86650782e+03, 9.62944431e+03, 4.50240665e+03, 1.15366994e+04,\n",
              "       6.52251510e+03, 2.53145102e+03, 1.28175225e+03, 5.28376706e-01,\n",
              "       6.47309407e+02, 5.83872427e+03, 6.74136715e+03, 1.63406158e+03,\n",
              "       6.69083898e+02, 2.46192482e+03, 1.00683396e+04, 6.35970838e+02,\n",
              "       6.61949698e-02, 5.13191782e+02, 3.80758493e+00, 8.18060153e+00,\n",
              "       1.80108453e+03, 2.18332673e+03, 3.21610508e+03, 2.91209981e+01,\n",
              "       1.03521891e+04, 2.96570156e+03, 2.15491487e+02, 2.90174086e+03,\n",
              "       1.48539560e+04, 4.55321633e+01, 4.69584880e+03, 7.05701489e+03,\n",
              "       1.65604873e+03, 3.44349185e+03, 2.27246291e+02, 2.97507603e+03,\n",
              "       2.28176286e+03, 5.63833879e+02, 1.93824044e+03, 1.08533579e+03,\n",
              "       5.89951901e+02, 9.38214037e+02, 1.66445651e+03, 1.09582403e+03,\n",
              "       8.40803185e+03, 2.92714853e+03, 3.51354152e+03, 1.22513557e+03,\n",
              "       6.67860100e+03, 1.82373977e+03, 7.78632209e+02, 8.55052453e+03,\n",
              "       4.21605686e+02, 8.35633061e+02, 2.09058653e+03, 5.28343304e+03,\n",
              "       4.95545163e+02, 3.36357934e+03, 1.12308467e+02, 5.78731346e+02,\n",
              "       4.04949038e+02, 9.44406833e+00, 1.02472180e+02, 1.42588885e+03,\n",
              "       1.23290436e+03, 2.61216825e+03, 1.25240329e+04, 4.26257741e+03,\n",
              "       9.44416269e+03, 2.87762768e+03, 9.49406450e+01, 6.97304948e+03,\n",
              "       1.00675918e+04, 1.55279293e+01, 8.58600247e+03, 9.60166850e+03,\n",
              "       1.62593463e+01, 1.01665509e+03, 4.73624430e+02, 5.56603014e+03,\n",
              "       9.53526975e-01, 1.61942616e+04, 1.27559376e+04, 2.10713736e+03,\n",
              "       8.13904319e+01, 4.66699174e+02, 7.56899126e+02, 4.86810887e+03,\n",
              "       1.55121459e+02, 4.61571471e+03, 5.11747850e+02, 1.70012253e+03,\n",
              "       3.37309308e+03, 3.83823707e+03, 7.81165332e+01, 3.12733865e+01,\n",
              "       1.83473656e+04, 1.44416862e+02, 6.96568999e+03, 5.74713728e+02,\n",
              "       6.94080379e+02, 9.81738012e+00, 9.26743696e+03, 5.89183973e+01,\n",
              "       4.53957979e+02, 2.66957797e+03, 7.93369342e+02, 1.75408460e+02,\n",
              "       4.81715011e+02, 2.96281416e+02, 2.98860756e+03, 5.66571457e+00,\n",
              "       5.01450871e+03, 3.32497944e+03, 1.82923063e+03, 1.23029841e+03,\n",
              "       1.59740878e+03, 6.24065103e+02, 6.96080397e+02, 1.77730123e+02,\n",
              "       1.28579117e+04, 1.02242746e+03, 4.43675515e+03, 7.98915348e+03,\n",
              "       4.62339903e+02, 3.55048754e+02, 5.56005378e+01, 9.57746523e+01,\n",
              "       3.56153841e+03, 7.18854338e+03, 8.77257836e+03, 2.74481245e+03,\n",
              "       2.23848268e+03, 6.54968567e+03, 2.21595899e+02, 2.05807770e+03,\n",
              "       3.25115297e+03, 1.94821499e+02, 1.56693498e+03, 2.86344403e+02,\n",
              "       2.59294471e+02, 5.37099874e+01, 5.17113840e+01, 2.41206224e+02,\n",
              "       2.52922924e+02, 2.93837210e+03, 6.79576346e+03, 5.62803344e+03,\n",
              "       1.62078415e+03, 3.62392060e+02, 1.45712918e+03, 1.89453442e+04,\n",
              "       7.21118863e+03, 4.29715513e+03, 7.69514810e+03, 1.18678140e+04,\n",
              "       1.07735417e+04, 2.01794423e+03, 4.79664711e+02, 2.53496756e+02,\n",
              "       5.81081265e+03, 2.99650415e+02, 1.99446449e+01, 7.81043188e+00,\n",
              "       1.61713347e+03, 6.84662454e+02, 1.31628901e+02, 1.41711162e+03,\n",
              "       8.62381790e+03, 4.47879877e+03, 6.66652982e+03, 9.75768996e+03,\n",
              "       1.56971625e+04, 9.05099508e+02, 1.45995932e+04, 6.98216728e+02,\n",
              "       1.92998579e+03, 6.42316794e+03, 1.46973388e+03, 1.31612431e+04,\n",
              "       2.92470988e+03, 6.20644324e+02, 5.65315685e+02, 9.47348829e+01,\n",
              "       3.98862904e+02, 1.02620957e+03, 2.53179706e+02, 7.89999718e+03,\n",
              "       3.82173794e+02, 2.57436789e+02, 5.26697638e+03, 1.88398086e+03,\n",
              "       1.59770149e+02, 3.61008838e+01, 4.12886492e+02, 5.86009741e+02,\n",
              "       9.05228459e+03, 7.76435776e+00, 4.70031832e+02, 1.11106536e+03,\n",
              "       2.45159132e+02, 4.90533328e+01, 2.72994367e+03, 2.21829187e+02,\n",
              "       8.27804967e+02, 7.55337987e+01, 1.18478247e+03, 1.82341062e+00,\n",
              "       9.74579251e+02, 9.43178262e+03, 2.39586845e+02, 1.53014247e+03,\n",
              "       3.59886203e+01, 4.12384432e+02, 1.24285181e+03, 4.22839713e+03,\n",
              "       3.77126775e+03, 1.67268885e+03, 1.89377031e+03, 4.08568680e+03,\n",
              "       2.83969392e+03, 4.61623546e+01, 4.66708826e+03, 3.31205976e+03,\n",
              "       2.14050312e+03, 1.29436295e+02, 6.94497850e+03, 3.13990131e+03,\n",
              "       2.19405918e+01, 2.31708780e+02, 9.14997632e+00, 1.19290585e+02,\n",
              "       6.81337198e+01, 1.45654636e+01])"
            ]
          },
          "metadata": {},
          "execution_count": 8
        }
      ]
    },
    {
      "cell_type": "code",
      "source": [
        "print(\"1. Leave-One-Out Cross Validation (Linear Regression)\")\n",
        "print(\"Number of splits:\", loo.get_n_splits(X))\n",
        "print(\"First 5 MSE scores:\", mse_scores[:5])\n",
        "print(\"Mean MSE:\", mse_scores.mean())"
      ],
      "metadata": {
        "colab": {
          "base_uri": "https://localhost:8080/"
        },
        "id": "j5LMUqHkrAxO",
        "outputId": "9b35eeb8-2c4e-40d4-9ec2-c6771dfd3a63"
      },
      "execution_count": 9,
      "outputs": [
        {
          "output_type": "stream",
          "name": "stdout",
          "text": [
            "1. Leave-One-Out Cross Validation (Linear Regression)\n",
            "Number of splits: 442\n",
            "First 5 MSE scores: [3147.94770214   50.22996655 1350.4206212  1588.15515661   43.86976605]\n",
            "Mean MSE: 3001.752846999431\n"
          ]
        }
      ]
    },
    {
      "cell_type": "markdown",
      "source": [
        "# Leave-P-Out Cross Validation (P=2)"
      ],
      "metadata": {
        "id": "MUCL4a7is78Q"
      }
    },
    {
      "cell_type": "code",
      "source": [
        "from sklearn.datasets import load_diabetes\n",
        "from sklearn.model_selection import LeavePOut, cross_val_score\n",
        "from sklearn.linear_model import LinearRegression\n",
        "import numpy as np"
      ],
      "metadata": {
        "id": "tOCmUP5CtK-5"
      },
      "execution_count": 11,
      "outputs": []
    },
    {
      "cell_type": "code",
      "source": [
        "data = load_diabetes()\n",
        "X = data.data[:20]  # smaller sample to reduce time\n",
        "y = data.target[:20]"
      ],
      "metadata": {
        "id": "E8XvFNBqtLC3"
      },
      "execution_count": 12,
      "outputs": []
    },
    {
      "cell_type": "code",
      "source": [
        "model = LinearRegression()"
      ],
      "metadata": {
        "id": "pwGutLK9tLFq"
      },
      "execution_count": 13,
      "outputs": []
    },
    {
      "cell_type": "code",
      "source": [
        "lpo = LeavePOut(p=2)"
      ],
      "metadata": {
        "id": "AO1gqiKVtLJG"
      },
      "execution_count": 14,
      "outputs": []
    },
    {
      "cell_type": "code",
      "source": [
        "scores = cross_val_score(model, X, y, cv=lpo, scoring='neg_mean_squared_error')"
      ],
      "metadata": {
        "id": "9fMsdSCKtUGw"
      },
      "execution_count": 15,
      "outputs": []
    },
    {
      "cell_type": "code",
      "source": [
        "mse_scores = -scores"
      ],
      "metadata": {
        "id": "DfKnh2SytULa"
      },
      "execution_count": 16,
      "outputs": []
    },
    {
      "cell_type": "code",
      "source": [
        "print(\"2. Leave-P-Out Cross Validation (P=2) with Linear Regression\")\n",
        "print(\"Number of combinations (splits):\", lpo.get_n_splits(X))\n",
        "print(\"First 5 MSE scores:\", mse_scores[:5])\n",
        "print(\"Mean MSE:\", mse_scores.mean())"
      ],
      "metadata": {
        "colab": {
          "base_uri": "https://localhost:8080/"
        },
        "id": "c5f36DrotboJ",
        "outputId": "96e4e8c3-14d1-422f-995b-86b2e956b965"
      },
      "execution_count": 17,
      "outputs": [
        {
          "output_type": "stream",
          "name": "stdout",
          "text": [
            "2. Leave-P-Out Cross Validation (P=2) with Linear Regression\n",
            "Number of combinations (splits): 190\n",
            "First 5 MSE scores: [2531.4490979  2867.82286139  417.59255548 1113.85108795 2112.13480627]\n",
            "Mean MSE: 2241.7855237836043\n"
          ]
        }
      ]
    },
    {
      "cell_type": "markdown",
      "source": [
        "#  K-Fold Cross Validation"
      ],
      "metadata": {
        "id": "oK_GjxOjtIek"
      }
    },
    {
      "cell_type": "code",
      "source": [
        "from sklearn.datasets import load_diabetes\n",
        "from sklearn.model_selection import KFold, cross_val_score\n",
        "from sklearn.linear_model import LinearRegression\n",
        "import numpy as np"
      ],
      "metadata": {
        "id": "BL996GA2rA41"
      },
      "execution_count": 18,
      "outputs": []
    },
    {
      "cell_type": "code",
      "source": [
        "data = load_diabetes()\n",
        "X = data.data\n",
        "y = data.target"
      ],
      "metadata": {
        "id": "9SjHo6Q5tpYu"
      },
      "execution_count": 19,
      "outputs": []
    },
    {
      "cell_type": "code",
      "source": [
        "model = LinearRegression()"
      ],
      "metadata": {
        "id": "SW-5wwR7tpdN"
      },
      "execution_count": 20,
      "outputs": []
    },
    {
      "cell_type": "code",
      "source": [
        "kf = KFold(n_splits=5, shuffle=True, random_state=42)"
      ],
      "metadata": {
        "id": "6x9PUNOatt7f"
      },
      "execution_count": 21,
      "outputs": []
    },
    {
      "cell_type": "code",
      "source": [
        "scores = cross_val_score(model, X, y, cv=kf, scoring='neg_mean_squared_error')"
      ],
      "metadata": {
        "id": "8A3BdgLgtuAS"
      },
      "execution_count": 22,
      "outputs": []
    },
    {
      "cell_type": "code",
      "source": [
        "mse_scores = -scores"
      ],
      "metadata": {
        "id": "_S2iMK2XtuEO"
      },
      "execution_count": 23,
      "outputs": []
    },
    {
      "cell_type": "code",
      "source": [
        "print(\"3. K-Fold Cross Validation (K=5) with Linear Regression\")\n",
        "print(\"MSE for each fold:\", mse_scores)\n",
        "print(\"Mean MSE:\", mse_scores.mean())"
      ],
      "metadata": {
        "colab": {
          "base_uri": "https://localhost:8080/"
        },
        "id": "TqZY4J0PtuH5",
        "outputId": "e3a84f59-a7ad-4343-c9b7-3f6fcc1eb35b"
      },
      "execution_count": 24,
      "outputs": [
        {
          "output_type": "stream",
          "name": "stdout",
          "text": [
            "3. K-Fold Cross Validation (K=5) with Linear Regression\n",
            "MSE for each fold: [2900.19362849 2662.63760862 3312.30588884 2797.88355256 3403.88779293]\n",
            "Mean MSE: 3015.381694287271\n"
          ]
        }
      ]
    },
    {
      "cell_type": "markdown",
      "source": [
        "# Stratified K-Fold Cross Validation"
      ],
      "metadata": {
        "id": "4L3nkYUjuQH2"
      }
    },
    {
      "cell_type": "code",
      "source": [
        "from sklearn.datasets import load_iris\n",
        "from sklearn.model_selection import StratifiedKFold, cross_val_score\n",
        "from sklearn.linear_model import LogisticRegression"
      ],
      "metadata": {
        "id": "yXg2q3aPtpg1"
      },
      "execution_count": 25,
      "outputs": []
    },
    {
      "cell_type": "code",
      "source": [
        "iris = load_iris()\n",
        "X = iris.data\n",
        "y = iris.target"
      ],
      "metadata": {
        "id": "u8pXD8iMu2z2"
      },
      "execution_count": 26,
      "outputs": []
    },
    {
      "cell_type": "code",
      "source": [
        "model = LogisticRegression(max_iter=1000)"
      ],
      "metadata": {
        "id": "-kjAd1Pgu6-h"
      },
      "execution_count": 27,
      "outputs": []
    },
    {
      "cell_type": "code",
      "source": [
        "skf = StratifiedKFold(n_splits=5, shuffle=True, random_state=42)"
      ],
      "metadata": {
        "id": "tjJGZmCDu7C7"
      },
      "execution_count": 28,
      "outputs": []
    },
    {
      "cell_type": "code",
      "source": [
        "scores = cross_val_score(model, X, y, cv=skf)"
      ],
      "metadata": {
        "id": "tMsnvs4NvAUQ"
      },
      "execution_count": 29,
      "outputs": []
    },
    {
      "cell_type": "code",
      "source": [
        "print(\"4. Stratified K-Fold Cross Validation (K=5) - Classification\")\n",
        "print(\"Accuracy for each fold:\", scores)\n",
        "print(\"Mean Accuracy:\", scores.mean())"
      ],
      "metadata": {
        "colab": {
          "base_uri": "https://localhost:8080/"
        },
        "id": "3EbgAXDEu7GJ",
        "outputId": "1cffc589-e3d8-4b42-a09f-71944e27d3fe"
      },
      "execution_count": 30,
      "outputs": [
        {
          "output_type": "stream",
          "name": "stdout",
          "text": [
            "4. Stratified K-Fold Cross Validation (K=5) - Classification\n",
            "Accuracy for each fold: [1.         0.96666667 0.93333333 1.         0.93333333]\n",
            "Mean Accuracy: 0.9666666666666668\n"
          ]
        }
      ]
    }
  ]
}