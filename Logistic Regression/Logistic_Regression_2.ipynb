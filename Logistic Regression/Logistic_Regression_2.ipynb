{
  "nbformat": 4,
  "nbformat_minor": 0,
  "metadata": {
    "colab": {
      "provenance": []
    },
    "kernelspec": {
      "name": "python3",
      "display_name": "Python 3"
    },
    "language_info": {
      "name": "python"
    }
  },
  "cells": [
    {
      "cell_type": "code",
      "execution_count": null,
      "metadata": {
        "id": "ymOwEOJg6irW"
      },
      "outputs": [],
      "source": [
        "import pandas as pd\n",
        "import numpy as np\n",
        "import matplotlib.pyplot as plt\n",
        "import seaborn as sns\n",
        "\n",
        "import warnings\n",
        "warnings.filterwarnings('ignore')"
      ]
    },
    {
      "cell_type": "code",
      "source": [
        "# another way of making a classification datasets\n",
        "from sklearn.datasets import make_classification"
      ],
      "metadata": {
        "id": "zLFEmw316lDp"
      },
      "execution_count": null,
      "outputs": []
    },
    {
      "cell_type": "code",
      "source": [
        "X, y = make_classification(n_samples = 1000, n_features=10, n_redundant=5, n_informative=5, random_state=1)"
      ],
      "metadata": {
        "id": "wu8pK3B76lIM"
      },
      "execution_count": null,
      "outputs": []
    },
    {
      "cell_type": "code",
      "source": [
        "X"
      ],
      "metadata": {
        "id": "vAnQaUJc6lOB",
        "colab": {
          "base_uri": "https://localhost:8080/"
        },
        "outputId": "2b0bba1b-a209-47be-f246-2b9bc800848f"
      },
      "execution_count": null,
      "outputs": [
        {
          "output_type": "execute_result",
          "data": {
            "text/plain": [
              "array([[ 2.56999479, -0.13019997,  3.16075093, ..., -1.93094078,\n",
              "         3.26130366,  2.05692145],\n",
              "       [ 0.34129317,  2.51321418, -0.80416572, ...,  6.24734437,\n",
              "        -1.92769365,  2.9503149 ],\n",
              "       [ 2.27539972,  3.36561455,  0.17164362, ...,  2.74693781,\n",
              "         0.13492444,  2.00339547],\n",
              "       ...,\n",
              "       [ 0.5234359 ,  1.90466429,  0.93243365, ...,  1.53945231,\n",
              "         1.90646166,  1.99458587],\n",
              "       [ 1.33747921,  3.25859684,  0.78792366, ...,  5.18788314,\n",
              "        -0.82071083,  3.51411431],\n",
              "       [-0.98534299,  0.83919047,  2.5820803 , ...,  3.04705685,\n",
              "         0.66885641,  3.32838496]])"
            ]
          },
          "metadata": {},
          "execution_count": 56
        }
      ]
    },
    {
      "cell_type": "code",
      "source": [
        "y"
      ],
      "metadata": {
        "id": "lJSI2p4n6lTD",
        "colab": {
          "base_uri": "https://localhost:8080/"
        },
        "outputId": "cae70a58-f094-4fcd-9eae-69cce2d922f5"
      },
      "execution_count": null,
      "outputs": [
        {
          "output_type": "execute_result",
          "data": {
            "text/plain": [
              "array([1, 0, 0, 1, 0, 1, 1, 0, 0, 0, 1, 0, 1, 1, 0, 0, 1, 1, 1, 0, 0, 1,\n",
              "       1, 0, 1, 1, 1, 0, 0, 1, 1, 0, 1, 0, 1, 1, 1, 0, 0, 0, 0, 0, 0, 1,\n",
              "       0, 1, 0, 1, 1, 1, 0, 1, 1, 0, 1, 1, 0, 1, 0, 0, 0, 1, 0, 0, 0, 0,\n",
              "       1, 1, 0, 0, 0, 1, 0, 0, 1, 0, 0, 1, 1, 0, 1, 0, 1, 1, 1, 0, 1, 0,\n",
              "       0, 1, 0, 0, 0, 1, 0, 1, 1, 1, 0, 1, 1, 1, 1, 0, 1, 0, 1, 1, 0, 0,\n",
              "       1, 0, 1, 0, 1, 0, 1, 1, 1, 1, 1, 0, 1, 0, 0, 1, 0, 0, 1, 0, 1, 0,\n",
              "       0, 0, 1, 1, 0, 0, 0, 0, 0, 1, 1, 1, 0, 1, 0, 1, 1, 1, 1, 1, 0, 1,\n",
              "       1, 0, 1, 1, 0, 0, 0, 0, 0, 0, 1, 0, 1, 1, 1, 0, 0, 0, 0, 1, 1, 0,\n",
              "       1, 0, 1, 1, 1, 0, 0, 0, 1, 1, 1, 1, 1, 1, 0, 1, 1, 0, 1, 1, 0, 0,\n",
              "       1, 1, 0, 0, 1, 0, 0, 1, 1, 1, 1, 0, 1, 1, 1, 1, 0, 0, 1, 1, 1, 0,\n",
              "       0, 1, 1, 1, 0, 0, 0, 1, 1, 1, 1, 0, 0, 1, 0, 1, 1, 0, 1, 0, 0, 1,\n",
              "       0, 0, 1, 0, 0, 1, 0, 1, 1, 0, 0, 1, 0, 0, 1, 1, 0, 1, 1, 0, 1, 0,\n",
              "       1, 1, 1, 1, 0, 1, 0, 1, 1, 0, 1, 0, 1, 1, 0, 1, 0, 1, 1, 1, 1, 0,\n",
              "       0, 0, 0, 0, 0, 1, 1, 1, 0, 1, 1, 1, 0, 1, 1, 1, 0, 0, 1, 0, 1, 1,\n",
              "       0, 1, 0, 0, 0, 1, 1, 1, 1, 0, 0, 1, 0, 1, 0, 1, 0, 0, 0, 1, 0, 1,\n",
              "       0, 0, 0, 0, 1, 0, 0, 0, 0, 0, 1, 1, 0, 0, 1, 0, 0, 1, 1, 0, 0, 0,\n",
              "       0, 1, 1, 1, 1, 1, 0, 1, 1, 0, 1, 1, 1, 1, 1, 1, 0, 0, 1, 1, 1, 0,\n",
              "       1, 0, 0, 0, 1, 0, 0, 0, 0, 1, 0, 0, 0, 1, 1, 0, 1, 1, 0, 0, 0, 1,\n",
              "       1, 1, 0, 1, 0, 0, 0, 1, 1, 0, 0, 1, 1, 1, 1, 0, 0, 0, 0, 1, 1, 0,\n",
              "       1, 1, 1, 0, 0, 1, 1, 1, 0, 0, 1, 0, 1, 1, 1, 1, 1, 0, 0, 1, 1, 1,\n",
              "       0, 1, 0, 1, 0, 1, 0, 0, 0, 1, 1, 0, 0, 0, 1, 0, 1, 1, 0, 1, 0, 0,\n",
              "       0, 1, 0, 1, 0, 0, 0, 0, 0, 0, 1, 1, 1, 1, 0, 0, 0, 1, 1, 0, 0, 1,\n",
              "       1, 1, 1, 1, 0, 0, 0, 0, 0, 0, 0, 1, 1, 0, 1, 0, 0, 0, 1, 0, 1, 1,\n",
              "       1, 1, 1, 1, 0, 0, 0, 0, 0, 1, 0, 1, 0, 1, 1, 0, 1, 0, 1, 0, 0, 0,\n",
              "       1, 0, 0, 1, 1, 1, 1, 1, 1, 0, 0, 0, 0, 1, 0, 1, 1, 0, 0, 0, 1, 0,\n",
              "       1, 0, 1, 0, 1, 1, 0, 0, 0, 1, 1, 0, 0, 0, 0, 1, 0, 1, 0, 1, 0, 1,\n",
              "       0, 0, 1, 1, 0, 0, 1, 1, 0, 1, 0, 1, 0, 1, 1, 1, 0, 1, 0, 0, 0, 1,\n",
              "       1, 1, 0, 0, 1, 0, 1, 1, 0, 1, 0, 1, 1, 1, 1, 0, 0, 1, 1, 0, 0, 1,\n",
              "       1, 0, 1, 1, 1, 0, 0, 1, 0, 0, 0, 0, 0, 0, 1, 1, 0, 0, 1, 1, 1, 1,\n",
              "       1, 1, 0, 1, 1, 1, 0, 1, 1, 0, 0, 1, 1, 0, 1, 1, 0, 0, 1, 0, 0, 1,\n",
              "       1, 1, 0, 1, 1, 1, 0, 0, 0, 1, 1, 0, 0, 1, 0, 1, 0, 0, 0, 0, 0, 0,\n",
              "       0, 0, 0, 1, 1, 1, 1, 1, 1, 0, 0, 1, 0, 1, 1, 0, 1, 0, 1, 1, 0, 1,\n",
              "       0, 0, 1, 1, 0, 0, 0, 1, 0, 0, 0, 0, 1, 0, 1, 0, 0, 0, 1, 0, 0, 0,\n",
              "       1, 0, 0, 1, 1, 0, 0, 0, 0, 1, 1, 1, 0, 1, 1, 1, 0, 1, 0, 1, 0, 0,\n",
              "       1, 1, 1, 0, 1, 0, 0, 1, 0, 1, 1, 0, 0, 1, 0, 1, 1, 0, 1, 0, 0, 0,\n",
              "       0, 0, 1, 1, 0, 1, 1, 1, 1, 0, 0, 1, 0, 1, 0, 1, 1, 1, 1, 1, 0, 0,\n",
              "       0, 0, 0, 0, 0, 0, 0, 1, 1, 1, 1, 0, 0, 1, 0, 1, 1, 1, 0, 0, 0, 0,\n",
              "       0, 0, 0, 1, 0, 1, 1, 1, 1, 0, 1, 1, 1, 0, 0, 1, 1, 0, 1, 0, 1, 0,\n",
              "       1, 0, 0, 1, 1, 0, 1, 1, 1, 1, 1, 1, 0, 0, 0, 1, 0, 1, 1, 1, 1, 0,\n",
              "       0, 1, 0, 0, 1, 0, 1, 1, 1, 0, 1, 1, 0, 1, 0, 0, 1, 0, 0, 0, 1, 0,\n",
              "       0, 1, 0, 0, 1, 0, 0, 1, 1, 1, 1, 1, 1, 0, 0, 1, 1, 0, 0, 1, 0, 1,\n",
              "       1, 0, 1, 0, 0, 0, 0, 0, 0, 0, 0, 1, 0, 1, 0, 1, 0, 1, 1, 1, 0, 1,\n",
              "       1, 1, 1, 1, 0, 0, 0, 0, 0, 0, 1, 0, 0, 1, 1, 1, 0, 0, 0, 0, 1, 1,\n",
              "       0, 0, 0, 1, 1, 0, 0, 1, 1, 0, 1, 0, 1, 0, 1, 0, 1, 0, 1, 0, 1, 0,\n",
              "       0, 1, 0, 1, 1, 1, 0, 1, 0, 0, 1, 1, 1, 0, 1, 0, 0, 1, 1, 0, 0, 1,\n",
              "       1, 0, 0, 0, 0, 1, 1, 0, 0, 0])"
            ]
          },
          "metadata": {},
          "execution_count": 57
        }
      ]
    },
    {
      "cell_type": "code",
      "source": [
        "len(y)"
      ],
      "metadata": {
        "id": "cx2Bu_d86lXq",
        "colab": {
          "base_uri": "https://localhost:8080/"
        },
        "outputId": "f947eb09-3dae-4e8b-fbd7-fbf5821760a6"
      },
      "execution_count": null,
      "outputs": [
        {
          "output_type": "execute_result",
          "data": {
            "text/plain": [
              "1000"
            ]
          },
          "metadata": {},
          "execution_count": 58
        }
      ]
    },
    {
      "cell_type": "code",
      "source": [
        "X.shape"
      ],
      "metadata": {
        "id": "Ie15DQ6W6lcj",
        "colab": {
          "base_uri": "https://localhost:8080/"
        },
        "outputId": "e49d48fe-857d-4042-c58d-8b48a8c2beca"
      },
      "execution_count": null,
      "outputs": [
        {
          "output_type": "execute_result",
          "data": {
            "text/plain": [
              "(1000, 10)"
            ]
          },
          "metadata": {},
          "execution_count": 59
        }
      ]
    },
    {
      "cell_type": "code",
      "source": [
        "len(X)"
      ],
      "metadata": {
        "id": "rrSavU8H6lhd",
        "colab": {
          "base_uri": "https://localhost:8080/"
        },
        "outputId": "99b7c84d-3710-474a-c352-a5c0705cd13d"
      },
      "execution_count": null,
      "outputs": [
        {
          "output_type": "execute_result",
          "data": {
            "text/plain": [
              "1000"
            ]
          },
          "metadata": {},
          "execution_count": 60
        }
      ]
    },
    {
      "cell_type": "code",
      "source": [
        "# Injetion and reading the data\n",
        "# EDA\n",
        "# Data PReparation, Data Cleaning, Feature Engineering\n",
        "# Split\n",
        "# Train-Test-Split\n",
        "# Scaling\n",
        "# Model Building\n",
        "# Model Evaluation"
      ],
      "metadata": {
        "id": "BHdA9pxr6lma"
      },
      "execution_count": null,
      "outputs": []
    },
    {
      "cell_type": "code",
      "source": [
        "from sklearn.model_selection import train_test_split\n",
        "X_train, X_test, y_train, y_test = train_test_split(X, y, test_size = 0.3, random_state=1)"
      ],
      "metadata": {
        "id": "-Qj_eni26lrL"
      },
      "execution_count": null,
      "outputs": []
    },
    {
      "cell_type": "code",
      "source": [
        "X_train.shape, X_test.shape, y_train.shape, y_test.shape"
      ],
      "metadata": {
        "id": "craRfup06lvr",
        "colab": {
          "base_uri": "https://localhost:8080/"
        },
        "outputId": "17b42538-e0d9-4918-d161-75de3e882068"
      },
      "execution_count": null,
      "outputs": [
        {
          "output_type": "execute_result",
          "data": {
            "text/plain": [
              "((700, 10), (300, 10), (700,), (300,))"
            ]
          },
          "metadata": {},
          "execution_count": 63
        }
      ]
    },
    {
      "cell_type": "code",
      "source": [
        "from sklearn.linear_model import LogisticRegression\n",
        "model = LogisticRegression()"
      ],
      "metadata": {
        "id": "YvkaoW566l0i"
      },
      "execution_count": null,
      "outputs": []
    },
    {
      "cell_type": "code",
      "source": [
        "model"
      ],
      "metadata": {
        "id": "3D5e_Y486l5J",
        "colab": {
          "base_uri": "https://localhost:8080/",
          "height": 80
        },
        "outputId": "c28832bf-5647-4152-d6b5-05cdf1dc2ad9"
      },
      "execution_count": null,
      "outputs": [
        {
          "output_type": "execute_result",
          "data": {
            "text/plain": [
              "LogisticRegression()"
            ],
            "text/html": [
              "<style>#sk-container-id-3 {\n",
              "  /* Definition of color scheme common for light and dark mode */\n",
              "  --sklearn-color-text: #000;\n",
              "  --sklearn-color-text-muted: #666;\n",
              "  --sklearn-color-line: gray;\n",
              "  /* Definition of color scheme for unfitted estimators */\n",
              "  --sklearn-color-unfitted-level-0: #fff5e6;\n",
              "  --sklearn-color-unfitted-level-1: #f6e4d2;\n",
              "  --sklearn-color-unfitted-level-2: #ffe0b3;\n",
              "  --sklearn-color-unfitted-level-3: chocolate;\n",
              "  /* Definition of color scheme for fitted estimators */\n",
              "  --sklearn-color-fitted-level-0: #f0f8ff;\n",
              "  --sklearn-color-fitted-level-1: #d4ebff;\n",
              "  --sklearn-color-fitted-level-2: #b3dbfd;\n",
              "  --sklearn-color-fitted-level-3: cornflowerblue;\n",
              "\n",
              "  /* Specific color for light theme */\n",
              "  --sklearn-color-text-on-default-background: var(--sg-text-color, var(--theme-code-foreground, var(--jp-content-font-color1, black)));\n",
              "  --sklearn-color-background: var(--sg-background-color, var(--theme-background, var(--jp-layout-color0, white)));\n",
              "  --sklearn-color-border-box: var(--sg-text-color, var(--theme-code-foreground, var(--jp-content-font-color1, black)));\n",
              "  --sklearn-color-icon: #696969;\n",
              "\n",
              "  @media (prefers-color-scheme: dark) {\n",
              "    /* Redefinition of color scheme for dark theme */\n",
              "    --sklearn-color-text-on-default-background: var(--sg-text-color, var(--theme-code-foreground, var(--jp-content-font-color1, white)));\n",
              "    --sklearn-color-background: var(--sg-background-color, var(--theme-background, var(--jp-layout-color0, #111)));\n",
              "    --sklearn-color-border-box: var(--sg-text-color, var(--theme-code-foreground, var(--jp-content-font-color1, white)));\n",
              "    --sklearn-color-icon: #878787;\n",
              "  }\n",
              "}\n",
              "\n",
              "#sk-container-id-3 {\n",
              "  color: var(--sklearn-color-text);\n",
              "}\n",
              "\n",
              "#sk-container-id-3 pre {\n",
              "  padding: 0;\n",
              "}\n",
              "\n",
              "#sk-container-id-3 input.sk-hidden--visually {\n",
              "  border: 0;\n",
              "  clip: rect(1px 1px 1px 1px);\n",
              "  clip: rect(1px, 1px, 1px, 1px);\n",
              "  height: 1px;\n",
              "  margin: -1px;\n",
              "  overflow: hidden;\n",
              "  padding: 0;\n",
              "  position: absolute;\n",
              "  width: 1px;\n",
              "}\n",
              "\n",
              "#sk-container-id-3 div.sk-dashed-wrapped {\n",
              "  border: 1px dashed var(--sklearn-color-line);\n",
              "  margin: 0 0.4em 0.5em 0.4em;\n",
              "  box-sizing: border-box;\n",
              "  padding-bottom: 0.4em;\n",
              "  background-color: var(--sklearn-color-background);\n",
              "}\n",
              "\n",
              "#sk-container-id-3 div.sk-container {\n",
              "  /* jupyter's `normalize.less` sets `[hidden] { display: none; }`\n",
              "     but bootstrap.min.css set `[hidden] { display: none !important; }`\n",
              "     so we also need the `!important` here to be able to override the\n",
              "     default hidden behavior on the sphinx rendered scikit-learn.org.\n",
              "     See: https://github.com/scikit-learn/scikit-learn/issues/21755 */\n",
              "  display: inline-block !important;\n",
              "  position: relative;\n",
              "}\n",
              "\n",
              "#sk-container-id-3 div.sk-text-repr-fallback {\n",
              "  display: none;\n",
              "}\n",
              "\n",
              "div.sk-parallel-item,\n",
              "div.sk-serial,\n",
              "div.sk-item {\n",
              "  /* draw centered vertical line to link estimators */\n",
              "  background-image: linear-gradient(var(--sklearn-color-text-on-default-background), var(--sklearn-color-text-on-default-background));\n",
              "  background-size: 2px 100%;\n",
              "  background-repeat: no-repeat;\n",
              "  background-position: center center;\n",
              "}\n",
              "\n",
              "/* Parallel-specific style estimator block */\n",
              "\n",
              "#sk-container-id-3 div.sk-parallel-item::after {\n",
              "  content: \"\";\n",
              "  width: 100%;\n",
              "  border-bottom: 2px solid var(--sklearn-color-text-on-default-background);\n",
              "  flex-grow: 1;\n",
              "}\n",
              "\n",
              "#sk-container-id-3 div.sk-parallel {\n",
              "  display: flex;\n",
              "  align-items: stretch;\n",
              "  justify-content: center;\n",
              "  background-color: var(--sklearn-color-background);\n",
              "  position: relative;\n",
              "}\n",
              "\n",
              "#sk-container-id-3 div.sk-parallel-item {\n",
              "  display: flex;\n",
              "  flex-direction: column;\n",
              "}\n",
              "\n",
              "#sk-container-id-3 div.sk-parallel-item:first-child::after {\n",
              "  align-self: flex-end;\n",
              "  width: 50%;\n",
              "}\n",
              "\n",
              "#sk-container-id-3 div.sk-parallel-item:last-child::after {\n",
              "  align-self: flex-start;\n",
              "  width: 50%;\n",
              "}\n",
              "\n",
              "#sk-container-id-3 div.sk-parallel-item:only-child::after {\n",
              "  width: 0;\n",
              "}\n",
              "\n",
              "/* Serial-specific style estimator block */\n",
              "\n",
              "#sk-container-id-3 div.sk-serial {\n",
              "  display: flex;\n",
              "  flex-direction: column;\n",
              "  align-items: center;\n",
              "  background-color: var(--sklearn-color-background);\n",
              "  padding-right: 1em;\n",
              "  padding-left: 1em;\n",
              "}\n",
              "\n",
              "\n",
              "/* Toggleable style: style used for estimator/Pipeline/ColumnTransformer box that is\n",
              "clickable and can be expanded/collapsed.\n",
              "- Pipeline and ColumnTransformer use this feature and define the default style\n",
              "- Estimators will overwrite some part of the style using the `sk-estimator` class\n",
              "*/\n",
              "\n",
              "/* Pipeline and ColumnTransformer style (default) */\n",
              "\n",
              "#sk-container-id-3 div.sk-toggleable {\n",
              "  /* Default theme specific background. It is overwritten whether we have a\n",
              "  specific estimator or a Pipeline/ColumnTransformer */\n",
              "  background-color: var(--sklearn-color-background);\n",
              "}\n",
              "\n",
              "/* Toggleable label */\n",
              "#sk-container-id-3 label.sk-toggleable__label {\n",
              "  cursor: pointer;\n",
              "  display: flex;\n",
              "  width: 100%;\n",
              "  margin-bottom: 0;\n",
              "  padding: 0.5em;\n",
              "  box-sizing: border-box;\n",
              "  text-align: center;\n",
              "  align-items: start;\n",
              "  justify-content: space-between;\n",
              "  gap: 0.5em;\n",
              "}\n",
              "\n",
              "#sk-container-id-3 label.sk-toggleable__label .caption {\n",
              "  font-size: 0.6rem;\n",
              "  font-weight: lighter;\n",
              "  color: var(--sklearn-color-text-muted);\n",
              "}\n",
              "\n",
              "#sk-container-id-3 label.sk-toggleable__label-arrow:before {\n",
              "  /* Arrow on the left of the label */\n",
              "  content: \"▸\";\n",
              "  float: left;\n",
              "  margin-right: 0.25em;\n",
              "  color: var(--sklearn-color-icon);\n",
              "}\n",
              "\n",
              "#sk-container-id-3 label.sk-toggleable__label-arrow:hover:before {\n",
              "  color: var(--sklearn-color-text);\n",
              "}\n",
              "\n",
              "/* Toggleable content - dropdown */\n",
              "\n",
              "#sk-container-id-3 div.sk-toggleable__content {\n",
              "  max-height: 0;\n",
              "  max-width: 0;\n",
              "  overflow: hidden;\n",
              "  text-align: left;\n",
              "  /* unfitted */\n",
              "  background-color: var(--sklearn-color-unfitted-level-0);\n",
              "}\n",
              "\n",
              "#sk-container-id-3 div.sk-toggleable__content.fitted {\n",
              "  /* fitted */\n",
              "  background-color: var(--sklearn-color-fitted-level-0);\n",
              "}\n",
              "\n",
              "#sk-container-id-3 div.sk-toggleable__content pre {\n",
              "  margin: 0.2em;\n",
              "  border-radius: 0.25em;\n",
              "  color: var(--sklearn-color-text);\n",
              "  /* unfitted */\n",
              "  background-color: var(--sklearn-color-unfitted-level-0);\n",
              "}\n",
              "\n",
              "#sk-container-id-3 div.sk-toggleable__content.fitted pre {\n",
              "  /* unfitted */\n",
              "  background-color: var(--sklearn-color-fitted-level-0);\n",
              "}\n",
              "\n",
              "#sk-container-id-3 input.sk-toggleable__control:checked~div.sk-toggleable__content {\n",
              "  /* Expand drop-down */\n",
              "  max-height: 200px;\n",
              "  max-width: 100%;\n",
              "  overflow: auto;\n",
              "}\n",
              "\n",
              "#sk-container-id-3 input.sk-toggleable__control:checked~label.sk-toggleable__label-arrow:before {\n",
              "  content: \"▾\";\n",
              "}\n",
              "\n",
              "/* Pipeline/ColumnTransformer-specific style */\n",
              "\n",
              "#sk-container-id-3 div.sk-label input.sk-toggleable__control:checked~label.sk-toggleable__label {\n",
              "  color: var(--sklearn-color-text);\n",
              "  background-color: var(--sklearn-color-unfitted-level-2);\n",
              "}\n",
              "\n",
              "#sk-container-id-3 div.sk-label.fitted input.sk-toggleable__control:checked~label.sk-toggleable__label {\n",
              "  background-color: var(--sklearn-color-fitted-level-2);\n",
              "}\n",
              "\n",
              "/* Estimator-specific style */\n",
              "\n",
              "/* Colorize estimator box */\n",
              "#sk-container-id-3 div.sk-estimator input.sk-toggleable__control:checked~label.sk-toggleable__label {\n",
              "  /* unfitted */\n",
              "  background-color: var(--sklearn-color-unfitted-level-2);\n",
              "}\n",
              "\n",
              "#sk-container-id-3 div.sk-estimator.fitted input.sk-toggleable__control:checked~label.sk-toggleable__label {\n",
              "  /* fitted */\n",
              "  background-color: var(--sklearn-color-fitted-level-2);\n",
              "}\n",
              "\n",
              "#sk-container-id-3 div.sk-label label.sk-toggleable__label,\n",
              "#sk-container-id-3 div.sk-label label {\n",
              "  /* The background is the default theme color */\n",
              "  color: var(--sklearn-color-text-on-default-background);\n",
              "}\n",
              "\n",
              "/* On hover, darken the color of the background */\n",
              "#sk-container-id-3 div.sk-label:hover label.sk-toggleable__label {\n",
              "  color: var(--sklearn-color-text);\n",
              "  background-color: var(--sklearn-color-unfitted-level-2);\n",
              "}\n",
              "\n",
              "/* Label box, darken color on hover, fitted */\n",
              "#sk-container-id-3 div.sk-label.fitted:hover label.sk-toggleable__label.fitted {\n",
              "  color: var(--sklearn-color-text);\n",
              "  background-color: var(--sklearn-color-fitted-level-2);\n",
              "}\n",
              "\n",
              "/* Estimator label */\n",
              "\n",
              "#sk-container-id-3 div.sk-label label {\n",
              "  font-family: monospace;\n",
              "  font-weight: bold;\n",
              "  display: inline-block;\n",
              "  line-height: 1.2em;\n",
              "}\n",
              "\n",
              "#sk-container-id-3 div.sk-label-container {\n",
              "  text-align: center;\n",
              "}\n",
              "\n",
              "/* Estimator-specific */\n",
              "#sk-container-id-3 div.sk-estimator {\n",
              "  font-family: monospace;\n",
              "  border: 1px dotted var(--sklearn-color-border-box);\n",
              "  border-radius: 0.25em;\n",
              "  box-sizing: border-box;\n",
              "  margin-bottom: 0.5em;\n",
              "  /* unfitted */\n",
              "  background-color: var(--sklearn-color-unfitted-level-0);\n",
              "}\n",
              "\n",
              "#sk-container-id-3 div.sk-estimator.fitted {\n",
              "  /* fitted */\n",
              "  background-color: var(--sklearn-color-fitted-level-0);\n",
              "}\n",
              "\n",
              "/* on hover */\n",
              "#sk-container-id-3 div.sk-estimator:hover {\n",
              "  /* unfitted */\n",
              "  background-color: var(--sklearn-color-unfitted-level-2);\n",
              "}\n",
              "\n",
              "#sk-container-id-3 div.sk-estimator.fitted:hover {\n",
              "  /* fitted */\n",
              "  background-color: var(--sklearn-color-fitted-level-2);\n",
              "}\n",
              "\n",
              "/* Specification for estimator info (e.g. \"i\" and \"?\") */\n",
              "\n",
              "/* Common style for \"i\" and \"?\" */\n",
              "\n",
              ".sk-estimator-doc-link,\n",
              "a:link.sk-estimator-doc-link,\n",
              "a:visited.sk-estimator-doc-link {\n",
              "  float: right;\n",
              "  font-size: smaller;\n",
              "  line-height: 1em;\n",
              "  font-family: monospace;\n",
              "  background-color: var(--sklearn-color-background);\n",
              "  border-radius: 1em;\n",
              "  height: 1em;\n",
              "  width: 1em;\n",
              "  text-decoration: none !important;\n",
              "  margin-left: 0.5em;\n",
              "  text-align: center;\n",
              "  /* unfitted */\n",
              "  border: var(--sklearn-color-unfitted-level-1) 1pt solid;\n",
              "  color: var(--sklearn-color-unfitted-level-1);\n",
              "}\n",
              "\n",
              ".sk-estimator-doc-link.fitted,\n",
              "a:link.sk-estimator-doc-link.fitted,\n",
              "a:visited.sk-estimator-doc-link.fitted {\n",
              "  /* fitted */\n",
              "  border: var(--sklearn-color-fitted-level-1) 1pt solid;\n",
              "  color: var(--sklearn-color-fitted-level-1);\n",
              "}\n",
              "\n",
              "/* On hover */\n",
              "div.sk-estimator:hover .sk-estimator-doc-link:hover,\n",
              ".sk-estimator-doc-link:hover,\n",
              "div.sk-label-container:hover .sk-estimator-doc-link:hover,\n",
              ".sk-estimator-doc-link:hover {\n",
              "  /* unfitted */\n",
              "  background-color: var(--sklearn-color-unfitted-level-3);\n",
              "  color: var(--sklearn-color-background);\n",
              "  text-decoration: none;\n",
              "}\n",
              "\n",
              "div.sk-estimator.fitted:hover .sk-estimator-doc-link.fitted:hover,\n",
              ".sk-estimator-doc-link.fitted:hover,\n",
              "div.sk-label-container:hover .sk-estimator-doc-link.fitted:hover,\n",
              ".sk-estimator-doc-link.fitted:hover {\n",
              "  /* fitted */\n",
              "  background-color: var(--sklearn-color-fitted-level-3);\n",
              "  color: var(--sklearn-color-background);\n",
              "  text-decoration: none;\n",
              "}\n",
              "\n",
              "/* Span, style for the box shown on hovering the info icon */\n",
              ".sk-estimator-doc-link span {\n",
              "  display: none;\n",
              "  z-index: 9999;\n",
              "  position: relative;\n",
              "  font-weight: normal;\n",
              "  right: .2ex;\n",
              "  padding: .5ex;\n",
              "  margin: .5ex;\n",
              "  width: min-content;\n",
              "  min-width: 20ex;\n",
              "  max-width: 50ex;\n",
              "  color: var(--sklearn-color-text);\n",
              "  box-shadow: 2pt 2pt 4pt #999;\n",
              "  /* unfitted */\n",
              "  background: var(--sklearn-color-unfitted-level-0);\n",
              "  border: .5pt solid var(--sklearn-color-unfitted-level-3);\n",
              "}\n",
              "\n",
              ".sk-estimator-doc-link.fitted span {\n",
              "  /* fitted */\n",
              "  background: var(--sklearn-color-fitted-level-0);\n",
              "  border: var(--sklearn-color-fitted-level-3);\n",
              "}\n",
              "\n",
              ".sk-estimator-doc-link:hover span {\n",
              "  display: block;\n",
              "}\n",
              "\n",
              "/* \"?\"-specific style due to the `<a>` HTML tag */\n",
              "\n",
              "#sk-container-id-3 a.estimator_doc_link {\n",
              "  float: right;\n",
              "  font-size: 1rem;\n",
              "  line-height: 1em;\n",
              "  font-family: monospace;\n",
              "  background-color: var(--sklearn-color-background);\n",
              "  border-radius: 1rem;\n",
              "  height: 1rem;\n",
              "  width: 1rem;\n",
              "  text-decoration: none;\n",
              "  /* unfitted */\n",
              "  color: var(--sklearn-color-unfitted-level-1);\n",
              "  border: var(--sklearn-color-unfitted-level-1) 1pt solid;\n",
              "}\n",
              "\n",
              "#sk-container-id-3 a.estimator_doc_link.fitted {\n",
              "  /* fitted */\n",
              "  border: var(--sklearn-color-fitted-level-1) 1pt solid;\n",
              "  color: var(--sklearn-color-fitted-level-1);\n",
              "}\n",
              "\n",
              "/* On hover */\n",
              "#sk-container-id-3 a.estimator_doc_link:hover {\n",
              "  /* unfitted */\n",
              "  background-color: var(--sklearn-color-unfitted-level-3);\n",
              "  color: var(--sklearn-color-background);\n",
              "  text-decoration: none;\n",
              "}\n",
              "\n",
              "#sk-container-id-3 a.estimator_doc_link.fitted:hover {\n",
              "  /* fitted */\n",
              "  background-color: var(--sklearn-color-fitted-level-3);\n",
              "}\n",
              "</style><div id=\"sk-container-id-3\" class=\"sk-top-container\"><div class=\"sk-text-repr-fallback\"><pre>LogisticRegression()</pre><b>In a Jupyter environment, please rerun this cell to show the HTML representation or trust the notebook. <br />On GitHub, the HTML representation is unable to render, please try loading this page with nbviewer.org.</b></div><div class=\"sk-container\" hidden><div class=\"sk-item\"><div class=\"sk-estimator  sk-toggleable\"><input class=\"sk-toggleable__control sk-hidden--visually\" id=\"sk-estimator-id-3\" type=\"checkbox\" checked><label for=\"sk-estimator-id-3\" class=\"sk-toggleable__label  sk-toggleable__label-arrow\"><div><div>LogisticRegression</div></div><div><a class=\"sk-estimator-doc-link \" rel=\"noreferrer\" target=\"_blank\" href=\"https://scikit-learn.org/1.6/modules/generated/sklearn.linear_model.LogisticRegression.html\">?<span>Documentation for LogisticRegression</span></a><span class=\"sk-estimator-doc-link \">i<span>Not fitted</span></span></div></label><div class=\"sk-toggleable__content \"><pre>LogisticRegression()</pre></div> </div></div></div></div>"
            ]
          },
          "metadata": {},
          "execution_count": 65
        }
      ]
    },
    {
      "cell_type": "code",
      "source": [
        "model.fit(X_train, y_train)"
      ],
      "metadata": {
        "id": "xcypU6gR6l-Y",
        "colab": {
          "base_uri": "https://localhost:8080/",
          "height": 80
        },
        "outputId": "65ce55e8-d0ae-4623-dbc5-1368ce406880"
      },
      "execution_count": null,
      "outputs": [
        {
          "output_type": "execute_result",
          "data": {
            "text/plain": [
              "LogisticRegression()"
            ],
            "text/html": [
              "<style>#sk-container-id-4 {\n",
              "  /* Definition of color scheme common for light and dark mode */\n",
              "  --sklearn-color-text: #000;\n",
              "  --sklearn-color-text-muted: #666;\n",
              "  --sklearn-color-line: gray;\n",
              "  /* Definition of color scheme for unfitted estimators */\n",
              "  --sklearn-color-unfitted-level-0: #fff5e6;\n",
              "  --sklearn-color-unfitted-level-1: #f6e4d2;\n",
              "  --sklearn-color-unfitted-level-2: #ffe0b3;\n",
              "  --sklearn-color-unfitted-level-3: chocolate;\n",
              "  /* Definition of color scheme for fitted estimators */\n",
              "  --sklearn-color-fitted-level-0: #f0f8ff;\n",
              "  --sklearn-color-fitted-level-1: #d4ebff;\n",
              "  --sklearn-color-fitted-level-2: #b3dbfd;\n",
              "  --sklearn-color-fitted-level-3: cornflowerblue;\n",
              "\n",
              "  /* Specific color for light theme */\n",
              "  --sklearn-color-text-on-default-background: var(--sg-text-color, var(--theme-code-foreground, var(--jp-content-font-color1, black)));\n",
              "  --sklearn-color-background: var(--sg-background-color, var(--theme-background, var(--jp-layout-color0, white)));\n",
              "  --sklearn-color-border-box: var(--sg-text-color, var(--theme-code-foreground, var(--jp-content-font-color1, black)));\n",
              "  --sklearn-color-icon: #696969;\n",
              "\n",
              "  @media (prefers-color-scheme: dark) {\n",
              "    /* Redefinition of color scheme for dark theme */\n",
              "    --sklearn-color-text-on-default-background: var(--sg-text-color, var(--theme-code-foreground, var(--jp-content-font-color1, white)));\n",
              "    --sklearn-color-background: var(--sg-background-color, var(--theme-background, var(--jp-layout-color0, #111)));\n",
              "    --sklearn-color-border-box: var(--sg-text-color, var(--theme-code-foreground, var(--jp-content-font-color1, white)));\n",
              "    --sklearn-color-icon: #878787;\n",
              "  }\n",
              "}\n",
              "\n",
              "#sk-container-id-4 {\n",
              "  color: var(--sklearn-color-text);\n",
              "}\n",
              "\n",
              "#sk-container-id-4 pre {\n",
              "  padding: 0;\n",
              "}\n",
              "\n",
              "#sk-container-id-4 input.sk-hidden--visually {\n",
              "  border: 0;\n",
              "  clip: rect(1px 1px 1px 1px);\n",
              "  clip: rect(1px, 1px, 1px, 1px);\n",
              "  height: 1px;\n",
              "  margin: -1px;\n",
              "  overflow: hidden;\n",
              "  padding: 0;\n",
              "  position: absolute;\n",
              "  width: 1px;\n",
              "}\n",
              "\n",
              "#sk-container-id-4 div.sk-dashed-wrapped {\n",
              "  border: 1px dashed var(--sklearn-color-line);\n",
              "  margin: 0 0.4em 0.5em 0.4em;\n",
              "  box-sizing: border-box;\n",
              "  padding-bottom: 0.4em;\n",
              "  background-color: var(--sklearn-color-background);\n",
              "}\n",
              "\n",
              "#sk-container-id-4 div.sk-container {\n",
              "  /* jupyter's `normalize.less` sets `[hidden] { display: none; }`\n",
              "     but bootstrap.min.css set `[hidden] { display: none !important; }`\n",
              "     so we also need the `!important` here to be able to override the\n",
              "     default hidden behavior on the sphinx rendered scikit-learn.org.\n",
              "     See: https://github.com/scikit-learn/scikit-learn/issues/21755 */\n",
              "  display: inline-block !important;\n",
              "  position: relative;\n",
              "}\n",
              "\n",
              "#sk-container-id-4 div.sk-text-repr-fallback {\n",
              "  display: none;\n",
              "}\n",
              "\n",
              "div.sk-parallel-item,\n",
              "div.sk-serial,\n",
              "div.sk-item {\n",
              "  /* draw centered vertical line to link estimators */\n",
              "  background-image: linear-gradient(var(--sklearn-color-text-on-default-background), var(--sklearn-color-text-on-default-background));\n",
              "  background-size: 2px 100%;\n",
              "  background-repeat: no-repeat;\n",
              "  background-position: center center;\n",
              "}\n",
              "\n",
              "/* Parallel-specific style estimator block */\n",
              "\n",
              "#sk-container-id-4 div.sk-parallel-item::after {\n",
              "  content: \"\";\n",
              "  width: 100%;\n",
              "  border-bottom: 2px solid var(--sklearn-color-text-on-default-background);\n",
              "  flex-grow: 1;\n",
              "}\n",
              "\n",
              "#sk-container-id-4 div.sk-parallel {\n",
              "  display: flex;\n",
              "  align-items: stretch;\n",
              "  justify-content: center;\n",
              "  background-color: var(--sklearn-color-background);\n",
              "  position: relative;\n",
              "}\n",
              "\n",
              "#sk-container-id-4 div.sk-parallel-item {\n",
              "  display: flex;\n",
              "  flex-direction: column;\n",
              "}\n",
              "\n",
              "#sk-container-id-4 div.sk-parallel-item:first-child::after {\n",
              "  align-self: flex-end;\n",
              "  width: 50%;\n",
              "}\n",
              "\n",
              "#sk-container-id-4 div.sk-parallel-item:last-child::after {\n",
              "  align-self: flex-start;\n",
              "  width: 50%;\n",
              "}\n",
              "\n",
              "#sk-container-id-4 div.sk-parallel-item:only-child::after {\n",
              "  width: 0;\n",
              "}\n",
              "\n",
              "/* Serial-specific style estimator block */\n",
              "\n",
              "#sk-container-id-4 div.sk-serial {\n",
              "  display: flex;\n",
              "  flex-direction: column;\n",
              "  align-items: center;\n",
              "  background-color: var(--sklearn-color-background);\n",
              "  padding-right: 1em;\n",
              "  padding-left: 1em;\n",
              "}\n",
              "\n",
              "\n",
              "/* Toggleable style: style used for estimator/Pipeline/ColumnTransformer box that is\n",
              "clickable and can be expanded/collapsed.\n",
              "- Pipeline and ColumnTransformer use this feature and define the default style\n",
              "- Estimators will overwrite some part of the style using the `sk-estimator` class\n",
              "*/\n",
              "\n",
              "/* Pipeline and ColumnTransformer style (default) */\n",
              "\n",
              "#sk-container-id-4 div.sk-toggleable {\n",
              "  /* Default theme specific background. It is overwritten whether we have a\n",
              "  specific estimator or a Pipeline/ColumnTransformer */\n",
              "  background-color: var(--sklearn-color-background);\n",
              "}\n",
              "\n",
              "/* Toggleable label */\n",
              "#sk-container-id-4 label.sk-toggleable__label {\n",
              "  cursor: pointer;\n",
              "  display: flex;\n",
              "  width: 100%;\n",
              "  margin-bottom: 0;\n",
              "  padding: 0.5em;\n",
              "  box-sizing: border-box;\n",
              "  text-align: center;\n",
              "  align-items: start;\n",
              "  justify-content: space-between;\n",
              "  gap: 0.5em;\n",
              "}\n",
              "\n",
              "#sk-container-id-4 label.sk-toggleable__label .caption {\n",
              "  font-size: 0.6rem;\n",
              "  font-weight: lighter;\n",
              "  color: var(--sklearn-color-text-muted);\n",
              "}\n",
              "\n",
              "#sk-container-id-4 label.sk-toggleable__label-arrow:before {\n",
              "  /* Arrow on the left of the label */\n",
              "  content: \"▸\";\n",
              "  float: left;\n",
              "  margin-right: 0.25em;\n",
              "  color: var(--sklearn-color-icon);\n",
              "}\n",
              "\n",
              "#sk-container-id-4 label.sk-toggleable__label-arrow:hover:before {\n",
              "  color: var(--sklearn-color-text);\n",
              "}\n",
              "\n",
              "/* Toggleable content - dropdown */\n",
              "\n",
              "#sk-container-id-4 div.sk-toggleable__content {\n",
              "  max-height: 0;\n",
              "  max-width: 0;\n",
              "  overflow: hidden;\n",
              "  text-align: left;\n",
              "  /* unfitted */\n",
              "  background-color: var(--sklearn-color-unfitted-level-0);\n",
              "}\n",
              "\n",
              "#sk-container-id-4 div.sk-toggleable__content.fitted {\n",
              "  /* fitted */\n",
              "  background-color: var(--sklearn-color-fitted-level-0);\n",
              "}\n",
              "\n",
              "#sk-container-id-4 div.sk-toggleable__content pre {\n",
              "  margin: 0.2em;\n",
              "  border-radius: 0.25em;\n",
              "  color: var(--sklearn-color-text);\n",
              "  /* unfitted */\n",
              "  background-color: var(--sklearn-color-unfitted-level-0);\n",
              "}\n",
              "\n",
              "#sk-container-id-4 div.sk-toggleable__content.fitted pre {\n",
              "  /* unfitted */\n",
              "  background-color: var(--sklearn-color-fitted-level-0);\n",
              "}\n",
              "\n",
              "#sk-container-id-4 input.sk-toggleable__control:checked~div.sk-toggleable__content {\n",
              "  /* Expand drop-down */\n",
              "  max-height: 200px;\n",
              "  max-width: 100%;\n",
              "  overflow: auto;\n",
              "}\n",
              "\n",
              "#sk-container-id-4 input.sk-toggleable__control:checked~label.sk-toggleable__label-arrow:before {\n",
              "  content: \"▾\";\n",
              "}\n",
              "\n",
              "/* Pipeline/ColumnTransformer-specific style */\n",
              "\n",
              "#sk-container-id-4 div.sk-label input.sk-toggleable__control:checked~label.sk-toggleable__label {\n",
              "  color: var(--sklearn-color-text);\n",
              "  background-color: var(--sklearn-color-unfitted-level-2);\n",
              "}\n",
              "\n",
              "#sk-container-id-4 div.sk-label.fitted input.sk-toggleable__control:checked~label.sk-toggleable__label {\n",
              "  background-color: var(--sklearn-color-fitted-level-2);\n",
              "}\n",
              "\n",
              "/* Estimator-specific style */\n",
              "\n",
              "/* Colorize estimator box */\n",
              "#sk-container-id-4 div.sk-estimator input.sk-toggleable__control:checked~label.sk-toggleable__label {\n",
              "  /* unfitted */\n",
              "  background-color: var(--sklearn-color-unfitted-level-2);\n",
              "}\n",
              "\n",
              "#sk-container-id-4 div.sk-estimator.fitted input.sk-toggleable__control:checked~label.sk-toggleable__label {\n",
              "  /* fitted */\n",
              "  background-color: var(--sklearn-color-fitted-level-2);\n",
              "}\n",
              "\n",
              "#sk-container-id-4 div.sk-label label.sk-toggleable__label,\n",
              "#sk-container-id-4 div.sk-label label {\n",
              "  /* The background is the default theme color */\n",
              "  color: var(--sklearn-color-text-on-default-background);\n",
              "}\n",
              "\n",
              "/* On hover, darken the color of the background */\n",
              "#sk-container-id-4 div.sk-label:hover label.sk-toggleable__label {\n",
              "  color: var(--sklearn-color-text);\n",
              "  background-color: var(--sklearn-color-unfitted-level-2);\n",
              "}\n",
              "\n",
              "/* Label box, darken color on hover, fitted */\n",
              "#sk-container-id-4 div.sk-label.fitted:hover label.sk-toggleable__label.fitted {\n",
              "  color: var(--sklearn-color-text);\n",
              "  background-color: var(--sklearn-color-fitted-level-2);\n",
              "}\n",
              "\n",
              "/* Estimator label */\n",
              "\n",
              "#sk-container-id-4 div.sk-label label {\n",
              "  font-family: monospace;\n",
              "  font-weight: bold;\n",
              "  display: inline-block;\n",
              "  line-height: 1.2em;\n",
              "}\n",
              "\n",
              "#sk-container-id-4 div.sk-label-container {\n",
              "  text-align: center;\n",
              "}\n",
              "\n",
              "/* Estimator-specific */\n",
              "#sk-container-id-4 div.sk-estimator {\n",
              "  font-family: monospace;\n",
              "  border: 1px dotted var(--sklearn-color-border-box);\n",
              "  border-radius: 0.25em;\n",
              "  box-sizing: border-box;\n",
              "  margin-bottom: 0.5em;\n",
              "  /* unfitted */\n",
              "  background-color: var(--sklearn-color-unfitted-level-0);\n",
              "}\n",
              "\n",
              "#sk-container-id-4 div.sk-estimator.fitted {\n",
              "  /* fitted */\n",
              "  background-color: var(--sklearn-color-fitted-level-0);\n",
              "}\n",
              "\n",
              "/* on hover */\n",
              "#sk-container-id-4 div.sk-estimator:hover {\n",
              "  /* unfitted */\n",
              "  background-color: var(--sklearn-color-unfitted-level-2);\n",
              "}\n",
              "\n",
              "#sk-container-id-4 div.sk-estimator.fitted:hover {\n",
              "  /* fitted */\n",
              "  background-color: var(--sklearn-color-fitted-level-2);\n",
              "}\n",
              "\n",
              "/* Specification for estimator info (e.g. \"i\" and \"?\") */\n",
              "\n",
              "/* Common style for \"i\" and \"?\" */\n",
              "\n",
              ".sk-estimator-doc-link,\n",
              "a:link.sk-estimator-doc-link,\n",
              "a:visited.sk-estimator-doc-link {\n",
              "  float: right;\n",
              "  font-size: smaller;\n",
              "  line-height: 1em;\n",
              "  font-family: monospace;\n",
              "  background-color: var(--sklearn-color-background);\n",
              "  border-radius: 1em;\n",
              "  height: 1em;\n",
              "  width: 1em;\n",
              "  text-decoration: none !important;\n",
              "  margin-left: 0.5em;\n",
              "  text-align: center;\n",
              "  /* unfitted */\n",
              "  border: var(--sklearn-color-unfitted-level-1) 1pt solid;\n",
              "  color: var(--sklearn-color-unfitted-level-1);\n",
              "}\n",
              "\n",
              ".sk-estimator-doc-link.fitted,\n",
              "a:link.sk-estimator-doc-link.fitted,\n",
              "a:visited.sk-estimator-doc-link.fitted {\n",
              "  /* fitted */\n",
              "  border: var(--sklearn-color-fitted-level-1) 1pt solid;\n",
              "  color: var(--sklearn-color-fitted-level-1);\n",
              "}\n",
              "\n",
              "/* On hover */\n",
              "div.sk-estimator:hover .sk-estimator-doc-link:hover,\n",
              ".sk-estimator-doc-link:hover,\n",
              "div.sk-label-container:hover .sk-estimator-doc-link:hover,\n",
              ".sk-estimator-doc-link:hover {\n",
              "  /* unfitted */\n",
              "  background-color: var(--sklearn-color-unfitted-level-3);\n",
              "  color: var(--sklearn-color-background);\n",
              "  text-decoration: none;\n",
              "}\n",
              "\n",
              "div.sk-estimator.fitted:hover .sk-estimator-doc-link.fitted:hover,\n",
              ".sk-estimator-doc-link.fitted:hover,\n",
              "div.sk-label-container:hover .sk-estimator-doc-link.fitted:hover,\n",
              ".sk-estimator-doc-link.fitted:hover {\n",
              "  /* fitted */\n",
              "  background-color: var(--sklearn-color-fitted-level-3);\n",
              "  color: var(--sklearn-color-background);\n",
              "  text-decoration: none;\n",
              "}\n",
              "\n",
              "/* Span, style for the box shown on hovering the info icon */\n",
              ".sk-estimator-doc-link span {\n",
              "  display: none;\n",
              "  z-index: 9999;\n",
              "  position: relative;\n",
              "  font-weight: normal;\n",
              "  right: .2ex;\n",
              "  padding: .5ex;\n",
              "  margin: .5ex;\n",
              "  width: min-content;\n",
              "  min-width: 20ex;\n",
              "  max-width: 50ex;\n",
              "  color: var(--sklearn-color-text);\n",
              "  box-shadow: 2pt 2pt 4pt #999;\n",
              "  /* unfitted */\n",
              "  background: var(--sklearn-color-unfitted-level-0);\n",
              "  border: .5pt solid var(--sklearn-color-unfitted-level-3);\n",
              "}\n",
              "\n",
              ".sk-estimator-doc-link.fitted span {\n",
              "  /* fitted */\n",
              "  background: var(--sklearn-color-fitted-level-0);\n",
              "  border: var(--sklearn-color-fitted-level-3);\n",
              "}\n",
              "\n",
              ".sk-estimator-doc-link:hover span {\n",
              "  display: block;\n",
              "}\n",
              "\n",
              "/* \"?\"-specific style due to the `<a>` HTML tag */\n",
              "\n",
              "#sk-container-id-4 a.estimator_doc_link {\n",
              "  float: right;\n",
              "  font-size: 1rem;\n",
              "  line-height: 1em;\n",
              "  font-family: monospace;\n",
              "  background-color: var(--sklearn-color-background);\n",
              "  border-radius: 1rem;\n",
              "  height: 1rem;\n",
              "  width: 1rem;\n",
              "  text-decoration: none;\n",
              "  /* unfitted */\n",
              "  color: var(--sklearn-color-unfitted-level-1);\n",
              "  border: var(--sklearn-color-unfitted-level-1) 1pt solid;\n",
              "}\n",
              "\n",
              "#sk-container-id-4 a.estimator_doc_link.fitted {\n",
              "  /* fitted */\n",
              "  border: var(--sklearn-color-fitted-level-1) 1pt solid;\n",
              "  color: var(--sklearn-color-fitted-level-1);\n",
              "}\n",
              "\n",
              "/* On hover */\n",
              "#sk-container-id-4 a.estimator_doc_link:hover {\n",
              "  /* unfitted */\n",
              "  background-color: var(--sklearn-color-unfitted-level-3);\n",
              "  color: var(--sklearn-color-background);\n",
              "  text-decoration: none;\n",
              "}\n",
              "\n",
              "#sk-container-id-4 a.estimator_doc_link.fitted:hover {\n",
              "  /* fitted */\n",
              "  background-color: var(--sklearn-color-fitted-level-3);\n",
              "}\n",
              "</style><div id=\"sk-container-id-4\" class=\"sk-top-container\"><div class=\"sk-text-repr-fallback\"><pre>LogisticRegression()</pre><b>In a Jupyter environment, please rerun this cell to show the HTML representation or trust the notebook. <br />On GitHub, the HTML representation is unable to render, please try loading this page with nbviewer.org.</b></div><div class=\"sk-container\" hidden><div class=\"sk-item\"><div class=\"sk-estimator fitted sk-toggleable\"><input class=\"sk-toggleable__control sk-hidden--visually\" id=\"sk-estimator-id-4\" type=\"checkbox\" checked><label for=\"sk-estimator-id-4\" class=\"sk-toggleable__label fitted sk-toggleable__label-arrow\"><div><div>LogisticRegression</div></div><div><a class=\"sk-estimator-doc-link fitted\" rel=\"noreferrer\" target=\"_blank\" href=\"https://scikit-learn.org/1.6/modules/generated/sklearn.linear_model.LogisticRegression.html\">?<span>Documentation for LogisticRegression</span></a><span class=\"sk-estimator-doc-link fitted\">i<span>Fitted</span></span></div></label><div class=\"sk-toggleable__content fitted\"><pre>LogisticRegression()</pre></div> </div></div></div></div>"
            ]
          },
          "metadata": {},
          "execution_count": 66
        }
      ]
    },
    {
      "cell_type": "code",
      "source": [
        "model.intercept_"
      ],
      "metadata": {
        "id": "ogcNocVa6mDL",
        "colab": {
          "base_uri": "https://localhost:8080/"
        },
        "outputId": "b7b6ba3a-2769-46a3-b75b-97a9c022c5f9"
      },
      "execution_count": null,
      "outputs": [
        {
          "output_type": "execute_result",
          "data": {
            "text/plain": [
              "array([-0.63456511])"
            ]
          },
          "metadata": {},
          "execution_count": 67
        }
      ]
    },
    {
      "cell_type": "code",
      "source": [
        "model.coef_"
      ],
      "metadata": {
        "id": "Tv27PRQF6mH_",
        "colab": {
          "base_uri": "https://localhost:8080/"
        },
        "outputId": "96fca542-c408-4ea9-e2cd-3d825b7b1757"
      },
      "execution_count": null,
      "outputs": [
        {
          "output_type": "execute_result",
          "data": {
            "text/plain": [
              "array([[ 0.16802101, -0.60339704,  0.44133106, -0.43871386,  0.18698976,\n",
              "        -0.12583091, -0.38154997,  0.01951095, -0.48561625,  0.23442655]])"
            ]
          },
          "metadata": {},
          "execution_count": 68
        }
      ]
    },
    {
      "cell_type": "code",
      "source": [
        "y_pred = model.predict(X_test)"
      ],
      "metadata": {
        "id": "QVSHPfhl6mMs"
      },
      "execution_count": null,
      "outputs": []
    },
    {
      "cell_type": "code",
      "source": [
        "y_pred"
      ],
      "metadata": {
        "id": "81I7mPMH6mRa",
        "colab": {
          "base_uri": "https://localhost:8080/"
        },
        "outputId": "c85420ab-0a8d-44b4-a316-e67cfa06e263"
      },
      "execution_count": null,
      "outputs": [
        {
          "output_type": "execute_result",
          "data": {
            "text/plain": [
              "array([1, 0, 0, 0, 1, 0, 1, 0, 0, 1, 0, 0, 1, 0, 1, 1, 1, 1, 1, 0, 0, 1,\n",
              "       1, 0, 1, 1, 0, 0, 1, 0, 0, 1, 0, 1, 1, 1, 1, 0, 0, 0, 0, 0, 0, 0,\n",
              "       0, 0, 0, 0, 0, 0, 0, 0, 1, 1, 1, 0, 0, 0, 1, 1, 1, 1, 1, 0, 1, 0,\n",
              "       0, 0, 0, 1, 0, 0, 1, 1, 1, 0, 0, 0, 1, 1, 0, 0, 0, 0, 1, 0, 1, 1,\n",
              "       0, 0, 0, 1, 0, 1, 1, 0, 0, 1, 0, 1, 0, 1, 0, 1, 0, 1, 1, 0, 1, 1,\n",
              "       1, 1, 0, 0, 1, 0, 0, 1, 1, 0, 1, 0, 0, 1, 1, 0, 1, 0, 0, 0, 0, 0,\n",
              "       1, 0, 0, 0, 1, 0, 0, 1, 0, 1, 1, 1, 1, 1, 0, 0, 1, 1, 1, 0, 0, 1,\n",
              "       0, 0, 0, 0, 1, 1, 0, 1, 0, 1, 0, 1, 1, 0, 0, 0, 1, 0, 1, 0, 1, 0,\n",
              "       0, 0, 1, 1, 1, 0, 1, 0, 1, 1, 0, 1, 1, 0, 0, 1, 1, 0, 0, 1, 1, 0,\n",
              "       0, 1, 0, 0, 1, 1, 0, 0, 0, 0, 1, 0, 1, 1, 0, 0, 0, 1, 1, 0, 1, 0,\n",
              "       1, 1, 1, 0, 1, 1, 1, 0, 1, 0, 1, 1, 0, 1, 1, 0, 1, 0, 0, 1, 0, 0,\n",
              "       0, 0, 0, 0, 0, 1, 1, 1, 0, 0, 0, 0, 1, 1, 0, 1, 0, 0, 0, 1, 1, 1,\n",
              "       0, 0, 1, 0, 0, 1, 1, 0, 0, 0, 0, 0, 1, 0, 0, 0, 0, 0, 0, 0, 0, 1,\n",
              "       1, 1, 0, 1, 0, 1, 0, 1, 1, 1, 1, 1, 1, 0])"
            ]
          },
          "metadata": {},
          "execution_count": 70
        }
      ]
    },
    {
      "cell_type": "code",
      "source": [
        "model.predict_proba(X_test)"
      ],
      "metadata": {
        "id": "FVpgOdAk6mWS",
        "colab": {
          "base_uri": "https://localhost:8080/"
        },
        "outputId": "323de385-da5f-4de9-dbd8-ff1a9d9f283e"
      },
      "execution_count": null,
      "outputs": [
        {
          "output_type": "execute_result",
          "data": {
            "text/plain": [
              "array([[0.01925457, 0.98074543],\n",
              "       [0.8369654 , 0.1630346 ],\n",
              "       [0.71163174, 0.28836826],\n",
              "       [0.86595477, 0.13404523],\n",
              "       [0.44881263, 0.55118737],\n",
              "       [0.906619  , 0.093381  ],\n",
              "       [0.03803546, 0.96196454],\n",
              "       [0.69878052, 0.30121948],\n",
              "       [0.87649197, 0.12350803],\n",
              "       [0.04268774, 0.95731226],\n",
              "       [0.91221239, 0.08778761],\n",
              "       [0.57950286, 0.42049714],\n",
              "       [0.27686074, 0.72313926],\n",
              "       [0.76744489, 0.23255511],\n",
              "       [0.41878562, 0.58121438],\n",
              "       [0.33162756, 0.66837244],\n",
              "       [0.05094872, 0.94905128],\n",
              "       [0.14027377, 0.85972623],\n",
              "       [0.02937625, 0.97062375],\n",
              "       [0.92765479, 0.07234521],\n",
              "       [0.55017835, 0.44982165],\n",
              "       [0.04323274, 0.95676726],\n",
              "       [0.18990573, 0.81009427],\n",
              "       [0.89966296, 0.10033704],\n",
              "       [0.09082865, 0.90917135],\n",
              "       [0.44410569, 0.55589431],\n",
              "       [0.85854528, 0.14145472],\n",
              "       [0.5383565 , 0.4616435 ],\n",
              "       [0.49035344, 0.50964656],\n",
              "       [0.82655524, 0.17344476],\n",
              "       [0.75068502, 0.24931498],\n",
              "       [0.23985245, 0.76014755],\n",
              "       [0.90011396, 0.09988604],\n",
              "       [0.35887485, 0.64112515],\n",
              "       [0.04116137, 0.95883863],\n",
              "       [0.0219789 , 0.9780211 ],\n",
              "       [0.01199349, 0.98800651],\n",
              "       [0.9456352 , 0.0543648 ],\n",
              "       [0.96564211, 0.03435789],\n",
              "       [0.53858522, 0.46141478],\n",
              "       [0.91625822, 0.08374178],\n",
              "       [0.64666741, 0.35333259],\n",
              "       [0.97916944, 0.02083056],\n",
              "       [0.58580662, 0.41419338],\n",
              "       [0.73192124, 0.26807876],\n",
              "       [0.82172237, 0.17827763],\n",
              "       [0.89284506, 0.10715494],\n",
              "       [0.62894653, 0.37105347],\n",
              "       [0.71411689, 0.28588311],\n",
              "       [0.94705567, 0.05294433],\n",
              "       [0.86640886, 0.13359114],\n",
              "       [0.95476272, 0.04523728],\n",
              "       [0.37163494, 0.62836506],\n",
              "       [0.02015323, 0.97984677],\n",
              "       [0.40135817, 0.59864183],\n",
              "       [0.89251757, 0.10748243],\n",
              "       [0.92104502, 0.07895498],\n",
              "       [0.82786379, 0.17213621],\n",
              "       [0.0155117 , 0.9844883 ],\n",
              "       [0.03117307, 0.96882693],\n",
              "       [0.00484328, 0.99515672],\n",
              "       [0.09844764, 0.90155236],\n",
              "       [0.12277439, 0.87722561],\n",
              "       [0.63499957, 0.36500043],\n",
              "       [0.05584474, 0.94415526],\n",
              "       [0.80533638, 0.19466362],\n",
              "       [0.93816594, 0.06183406],\n",
              "       [0.90013327, 0.09986673],\n",
              "       [0.54841649, 0.45158351],\n",
              "       [0.27833589, 0.72166411],\n",
              "       [0.74770296, 0.25229704],\n",
              "       [0.97856753, 0.02143247],\n",
              "       [0.10030221, 0.89969779],\n",
              "       [0.4587161 , 0.5412839 ],\n",
              "       [0.01572601, 0.98427399],\n",
              "       [0.96851031, 0.03148969],\n",
              "       [0.53057635, 0.46942365],\n",
              "       [0.86355424, 0.13644576],\n",
              "       [0.37669775, 0.62330225],\n",
              "       [0.07756736, 0.92243264],\n",
              "       [0.70003787, 0.29996213],\n",
              "       [0.90943015, 0.09056985],\n",
              "       [0.79595515, 0.20404485],\n",
              "       [0.66445079, 0.33554921],\n",
              "       [0.35560949, 0.64439051],\n",
              "       [0.61407022, 0.38592978],\n",
              "       [0.30330967, 0.69669033],\n",
              "       [0.15064663, 0.84935337],\n",
              "       [0.68371515, 0.31628485],\n",
              "       [0.72391461, 0.27608539],\n",
              "       [0.6379283 , 0.3620717 ],\n",
              "       [0.22027427, 0.77972573],\n",
              "       [0.94469363, 0.05530637],\n",
              "       [0.04702926, 0.95297074],\n",
              "       [0.45196898, 0.54803102],\n",
              "       [0.67004566, 0.32995434],\n",
              "       [0.88495137, 0.11504863],\n",
              "       [0.01731534, 0.98268466],\n",
              "       [0.83842488, 0.16157512],\n",
              "       [0.04210512, 0.95789488],\n",
              "       [0.68593579, 0.31406421],\n",
              "       [0.22034674, 0.77965326],\n",
              "       [0.73049483, 0.26950517],\n",
              "       [0.16582644, 0.83417356],\n",
              "       [0.83288106, 0.16711894],\n",
              "       [0.28002722, 0.71997278],\n",
              "       [0.0816981 , 0.9183019 ],\n",
              "       [0.73997127, 0.26002873],\n",
              "       [0.06359024, 0.93640976],\n",
              "       [0.07407342, 0.92592658],\n",
              "       [0.01546914, 0.98453086],\n",
              "       [0.13893893, 0.86106107],\n",
              "       [0.79185439, 0.20814561],\n",
              "       [0.86692206, 0.13307794],\n",
              "       [0.09635713, 0.90364287],\n",
              "       [0.66786983, 0.33213017],\n",
              "       [0.89768147, 0.10231853],\n",
              "       [0.05418231, 0.94581769],\n",
              "       [0.04026588, 0.95973412],\n",
              "       [0.66138235, 0.33861765],\n",
              "       [0.05268329, 0.94731671],\n",
              "       [0.72984565, 0.27015435],\n",
              "       [0.78919911, 0.21080089],\n",
              "       [0.29441835, 0.70558165],\n",
              "       [0.35559198, 0.64440802],\n",
              "       [0.85553665, 0.14446335],\n",
              "       [0.39401288, 0.60598712],\n",
              "       [0.80767032, 0.19232968],\n",
              "       [0.8389648 , 0.1610352 ],\n",
              "       [0.6073369 , 0.3926631 ],\n",
              "       [0.68410221, 0.31589779],\n",
              "       [0.84363308, 0.15636692],\n",
              "       [0.47634376, 0.52365624],\n",
              "       [0.81517901, 0.18482099],\n",
              "       [0.81502711, 0.18497289],\n",
              "       [0.8777358 , 0.1222642 ],\n",
              "       [0.17087672, 0.82912328],\n",
              "       [0.83960521, 0.16039479],\n",
              "       [0.82682807, 0.17317193],\n",
              "       [0.40590904, 0.59409096],\n",
              "       [0.82998418, 0.17001582],\n",
              "       [0.13470957, 0.86529043],\n",
              "       [0.00185474, 0.99814526],\n",
              "       [0.42656099, 0.57343901],\n",
              "       [0.37203913, 0.62796087],\n",
              "       [0.34817513, 0.65182487],\n",
              "       [0.62147435, 0.37852565],\n",
              "       [0.81000112, 0.18999888],\n",
              "       [0.15742632, 0.84257368],\n",
              "       [0.04436645, 0.95563355],\n",
              "       [0.04237309, 0.95762691],\n",
              "       [0.51785695, 0.48214305],\n",
              "       [0.95313424, 0.04686576],\n",
              "       [0.18467454, 0.81532546],\n",
              "       [0.90514063, 0.09485937],\n",
              "       [0.79669925, 0.20330075],\n",
              "       [0.75911106, 0.24088894],\n",
              "       [0.87172749, 0.12827251],\n",
              "       [0.00606251, 0.99393749],\n",
              "       [0.06089131, 0.93910869],\n",
              "       [0.73596822, 0.26403178],\n",
              "       [0.06568524, 0.93431476],\n",
              "       [0.55143548, 0.44856452],\n",
              "       [0.00528695, 0.99471305],\n",
              "       [0.53965462, 0.46034538],\n",
              "       [0.3908269 , 0.6091731 ],\n",
              "       [0.08248921, 0.91751079],\n",
              "       [0.59945379, 0.40054621],\n",
              "       [0.63469506, 0.36530494],\n",
              "       [0.57821627, 0.42178373],\n",
              "       [0.42603431, 0.57396569],\n",
              "       [0.68594753, 0.31405247],\n",
              "       [0.00938604, 0.99061396],\n",
              "       [0.68997102, 0.31002898],\n",
              "       [0.06580752, 0.93419248],\n",
              "       [0.58589589, 0.41410411],\n",
              "       [0.70137568, 0.29862432],\n",
              "       [0.8729751 , 0.1270249 ],\n",
              "       [0.02369709, 0.97630291],\n",
              "       [0.38551631, 0.61448369],\n",
              "       [0.01339806, 0.98660194],\n",
              "       [0.73660777, 0.26339223],\n",
              "       [0.13752139, 0.86247861],\n",
              "       [0.71030149, 0.28969851],\n",
              "       [0.10626196, 0.89373804],\n",
              "       [0.09130555, 0.90869445],\n",
              "       [0.97684323, 0.02315677],\n",
              "       [0.13867545, 0.86132455],\n",
              "       [0.04189395, 0.95810605],\n",
              "       [0.77669244, 0.22330756],\n",
              "       [0.71290239, 0.28709761],\n",
              "       [0.14791208, 0.85208792],\n",
              "       [0.48916459, 0.51083541],\n",
              "       [0.76584158, 0.23415842],\n",
              "       [0.79772927, 0.20227073],\n",
              "       [0.27761525, 0.72238475],\n",
              "       [0.36686964, 0.63313036],\n",
              "       [0.73911759, 0.26088241],\n",
              "       [0.70300878, 0.29699122],\n",
              "       [0.01437117, 0.98562883],\n",
              "       [0.75440576, 0.24559424],\n",
              "       [0.95732232, 0.04267768],\n",
              "       [0.32656503, 0.67343497],\n",
              "       [0.38818376, 0.61181624],\n",
              "       [0.73536986, 0.26463014],\n",
              "       [0.85074731, 0.14925269],\n",
              "       [0.88992355, 0.11007645],\n",
              "       [0.90726112, 0.09273888],\n",
              "       [0.19877183, 0.80122817],\n",
              "       [0.5140547 , 0.4859453 ],\n",
              "       [0.4390979 , 0.5609021 ],\n",
              "       [0.02365233, 0.97634767],\n",
              "       [0.88077607, 0.11922393],\n",
              "       [0.96824603, 0.03175397],\n",
              "       [0.90626158, 0.09373842],\n",
              "       [0.05950006, 0.94049994],\n",
              "       [0.05006651, 0.94993349],\n",
              "       [0.52745892, 0.47254108],\n",
              "       [0.08992664, 0.91007336],\n",
              "       [0.6875327 , 0.3124673 ],\n",
              "       [0.05728122, 0.94271878],\n",
              "       [0.05278325, 0.94721675],\n",
              "       [0.08406846, 0.91593154],\n",
              "       [0.59408282, 0.40591718],\n",
              "       [0.25811913, 0.74188087],\n",
              "       [0.29524992, 0.70475008],\n",
              "       [0.16862929, 0.83137071],\n",
              "       [0.80239571, 0.19760429],\n",
              "       [0.45896742, 0.54103258],\n",
              "       [0.70417632, 0.29582368],\n",
              "       [0.04560444, 0.95439556],\n",
              "       [0.01661397, 0.98338603],\n",
              "       [0.86648253, 0.13351747],\n",
              "       [0.31674196, 0.68325804],\n",
              "       [0.2447654 , 0.7552346 ],\n",
              "       [0.74620905, 0.25379095],\n",
              "       [0.33495696, 0.66504304],\n",
              "       [0.7258646 , 0.2741354 ],\n",
              "       [0.81026835, 0.18973165],\n",
              "       [0.37471115, 0.62528885],\n",
              "       [0.68203293, 0.31796707],\n",
              "       [0.88272694, 0.11727306],\n",
              "       [0.90358333, 0.09641667],\n",
              "       [0.81167611, 0.18832389],\n",
              "       [0.5210109 , 0.4789891 ],\n",
              "       [0.91821029, 0.08178971],\n",
              "       [0.69888817, 0.30111183],\n",
              "       [0.27125853, 0.72874147],\n",
              "       [0.09302747, 0.90697253],\n",
              "       [0.16622873, 0.83377127],\n",
              "       [0.79555528, 0.20444472],\n",
              "       [0.75197999, 0.24802001],\n",
              "       [0.93920111, 0.06079889],\n",
              "       [0.72334852, 0.27665148],\n",
              "       [0.1084389 , 0.8915611 ],\n",
              "       [0.0388968 , 0.9611032 ],\n",
              "       [0.94888191, 0.05111809],\n",
              "       [0.42567049, 0.57432951],\n",
              "       [0.95326266, 0.04673734],\n",
              "       [0.84841042, 0.15158958],\n",
              "       [0.81864746, 0.18135254],\n",
              "       [0.46692853, 0.53307147],\n",
              "       [0.05061593, 0.94938407],\n",
              "       [0.23277803, 0.76722197],\n",
              "       [0.92387322, 0.07612678],\n",
              "       [0.83668822, 0.16331178],\n",
              "       [0.05599307, 0.94400693],\n",
              "       [0.58229646, 0.41770354],\n",
              "       [0.83155966, 0.16844034],\n",
              "       [0.03050397, 0.96949603],\n",
              "       [0.05749506, 0.94250494],\n",
              "       [0.75424099, 0.24575901],\n",
              "       [0.83040361, 0.16959639],\n",
              "       [0.76416721, 0.23583279],\n",
              "       [0.64088876, 0.35911124],\n",
              "       [0.78967014, 0.21032986],\n",
              "       [0.18749828, 0.81250172],\n",
              "       [0.74588133, 0.25411867],\n",
              "       [0.85213398, 0.14786602],\n",
              "       [0.76813215, 0.23186785],\n",
              "       [0.69204754, 0.30795246],\n",
              "       [0.81034148, 0.18965852],\n",
              "       [0.51483445, 0.48516555],\n",
              "       [0.52562985, 0.47437015],\n",
              "       [0.75526794, 0.24473206],\n",
              "       [0.45579885, 0.54420115],\n",
              "       [0.21013145, 0.78986855],\n",
              "       [0.14612359, 0.85387641],\n",
              "       [0.71171829, 0.28828171],\n",
              "       [0.11019269, 0.88980731],\n",
              "       [0.85379345, 0.14620655],\n",
              "       [0.18901249, 0.81098751],\n",
              "       [0.91193645, 0.08806355],\n",
              "       [0.19317819, 0.80682181],\n",
              "       [0.05247579, 0.94752421],\n",
              "       [0.01229814, 0.98770186],\n",
              "       [0.45682538, 0.54317462],\n",
              "       [0.22183034, 0.77816966],\n",
              "       [0.04495848, 0.95504152],\n",
              "       [0.92413289, 0.07586711]])"
            ]
          },
          "metadata": {},
          "execution_count": 71
        }
      ]
    },
    {
      "cell_type": "code",
      "source": [
        "from sklearn.metrics import confusion_matrix, accuracy_score, classification_report"
      ],
      "metadata": {
        "id": "QfUUOPhQ6mbA"
      },
      "execution_count": null,
      "outputs": []
    },
    {
      "cell_type": "code",
      "source": [
        "confusion_matrix(y_test, y_pred)"
      ],
      "metadata": {
        "id": "DWj8Sp8K6mfj",
        "colab": {
          "base_uri": "https://localhost:8080/"
        },
        "outputId": "4c48cf32-563d-41b8-a4ff-d6453880c3ca"
      },
      "execution_count": null,
      "outputs": [
        {
          "output_type": "execute_result",
          "data": {
            "text/plain": [
              "array([[129,  13],\n",
              "       [ 34, 124]])"
            ]
          },
          "metadata": {},
          "execution_count": 73
        }
      ]
    },
    {
      "cell_type": "code",
      "source": [
        "accuracy_score(y_test, y_pred)"
      ],
      "metadata": {
        "id": "oKo5FdAH6mkK",
        "colab": {
          "base_uri": "https://localhost:8080/"
        },
        "outputId": "856acb6e-c7f0-458b-d167-7429b3f11d9c"
      },
      "execution_count": null,
      "outputs": [
        {
          "output_type": "execute_result",
          "data": {
            "text/plain": [
              "0.8433333333333334"
            ]
          },
          "metadata": {},
          "execution_count": 74
        }
      ]
    },
    {
      "cell_type": "code",
      "source": [
        "print(classification_report(y_test, y_pred))"
      ],
      "metadata": {
        "id": "ZebA-9p_6moc",
        "colab": {
          "base_uri": "https://localhost:8080/"
        },
        "outputId": "d3b4568c-9a14-4bfd-97f9-443c6b544a6b"
      },
      "execution_count": null,
      "outputs": [
        {
          "output_type": "stream",
          "name": "stdout",
          "text": [
            "              precision    recall  f1-score   support\n",
            "\n",
            "           0       0.79      0.91      0.85       142\n",
            "           1       0.91      0.78      0.84       158\n",
            "\n",
            "    accuracy                           0.84       300\n",
            "   macro avg       0.85      0.85      0.84       300\n",
            "weighted avg       0.85      0.84      0.84       300\n",
            "\n"
          ]
        }
      ]
    },
    {
      "cell_type": "code",
      "source": [
        "from sklearn.metrics import roc_curve, auc"
      ],
      "metadata": {
        "id": "2aOVEDO36mtd"
      },
      "execution_count": null,
      "outputs": []
    },
    {
      "cell_type": "code",
      "source": [
        "y_pred_prob = model.predict_proba(X_test)[:, 1]"
      ],
      "metadata": {
        "id": "bkyKI4kq6myn"
      },
      "execution_count": null,
      "outputs": []
    },
    {
      "cell_type": "code",
      "source": [
        "y_pred_prob"
      ],
      "metadata": {
        "id": "X14bpLcp6m2q",
        "colab": {
          "base_uri": "https://localhost:8080/"
        },
        "outputId": "6f93a57d-0e0e-4f37-f32e-0bc9537570ff"
      },
      "execution_count": null,
      "outputs": [
        {
          "output_type": "execute_result",
          "data": {
            "text/plain": [
              "array([0.98074543, 0.1630346 , 0.28836826, 0.13404523, 0.55118737,\n",
              "       0.093381  , 0.96196454, 0.30121948, 0.12350803, 0.95731226,\n",
              "       0.08778761, 0.42049714, 0.72313926, 0.23255511, 0.58121438,\n",
              "       0.66837244, 0.94905128, 0.85972623, 0.97062375, 0.07234521,\n",
              "       0.44982165, 0.95676726, 0.81009427, 0.10033704, 0.90917135,\n",
              "       0.55589431, 0.14145472, 0.4616435 , 0.50964656, 0.17344476,\n",
              "       0.24931498, 0.76014755, 0.09988604, 0.64112515, 0.95883863,\n",
              "       0.9780211 , 0.98800651, 0.0543648 , 0.03435789, 0.46141478,\n",
              "       0.08374178, 0.35333259, 0.02083056, 0.41419338, 0.26807876,\n",
              "       0.17827763, 0.10715494, 0.37105347, 0.28588311, 0.05294433,\n",
              "       0.13359114, 0.04523728, 0.62836506, 0.97984677, 0.59864183,\n",
              "       0.10748243, 0.07895498, 0.17213621, 0.9844883 , 0.96882693,\n",
              "       0.99515672, 0.90155236, 0.87722561, 0.36500043, 0.94415526,\n",
              "       0.19466362, 0.06183406, 0.09986673, 0.45158351, 0.72166411,\n",
              "       0.25229704, 0.02143247, 0.89969779, 0.5412839 , 0.98427399,\n",
              "       0.03148969, 0.46942365, 0.13644576, 0.62330225, 0.92243264,\n",
              "       0.29996213, 0.09056985, 0.20404485, 0.33554921, 0.64439051,\n",
              "       0.38592978, 0.69669033, 0.84935337, 0.31628485, 0.27608539,\n",
              "       0.3620717 , 0.77972573, 0.05530637, 0.95297074, 0.54803102,\n",
              "       0.32995434, 0.11504863, 0.98268466, 0.16157512, 0.95789488,\n",
              "       0.31406421, 0.77965326, 0.26950517, 0.83417356, 0.16711894,\n",
              "       0.71997278, 0.9183019 , 0.26002873, 0.93640976, 0.92592658,\n",
              "       0.98453086, 0.86106107, 0.20814561, 0.13307794, 0.90364287,\n",
              "       0.33213017, 0.10231853, 0.94581769, 0.95973412, 0.33861765,\n",
              "       0.94731671, 0.27015435, 0.21080089, 0.70558165, 0.64440802,\n",
              "       0.14446335, 0.60598712, 0.19232968, 0.1610352 , 0.3926631 ,\n",
              "       0.31589779, 0.15636692, 0.52365624, 0.18482099, 0.18497289,\n",
              "       0.1222642 , 0.82912328, 0.16039479, 0.17317193, 0.59409096,\n",
              "       0.17001582, 0.86529043, 0.99814526, 0.57343901, 0.62796087,\n",
              "       0.65182487, 0.37852565, 0.18999888, 0.84257368, 0.95563355,\n",
              "       0.95762691, 0.48214305, 0.04686576, 0.81532546, 0.09485937,\n",
              "       0.20330075, 0.24088894, 0.12827251, 0.99393749, 0.93910869,\n",
              "       0.26403178, 0.93431476, 0.44856452, 0.99471305, 0.46034538,\n",
              "       0.6091731 , 0.91751079, 0.40054621, 0.36530494, 0.42178373,\n",
              "       0.57396569, 0.31405247, 0.99061396, 0.31002898, 0.93419248,\n",
              "       0.41410411, 0.29862432, 0.1270249 , 0.97630291, 0.61448369,\n",
              "       0.98660194, 0.26339223, 0.86247861, 0.28969851, 0.89373804,\n",
              "       0.90869445, 0.02315677, 0.86132455, 0.95810605, 0.22330756,\n",
              "       0.28709761, 0.85208792, 0.51083541, 0.23415842, 0.20227073,\n",
              "       0.72238475, 0.63313036, 0.26088241, 0.29699122, 0.98562883,\n",
              "       0.24559424, 0.04267768, 0.67343497, 0.61181624, 0.26463014,\n",
              "       0.14925269, 0.11007645, 0.09273888, 0.80122817, 0.4859453 ,\n",
              "       0.5609021 , 0.97634767, 0.11922393, 0.03175397, 0.09373842,\n",
              "       0.94049994, 0.94993349, 0.47254108, 0.91007336, 0.3124673 ,\n",
              "       0.94271878, 0.94721675, 0.91593154, 0.40591718, 0.74188087,\n",
              "       0.70475008, 0.83137071, 0.19760429, 0.54103258, 0.29582368,\n",
              "       0.95439556, 0.98338603, 0.13351747, 0.68325804, 0.7552346 ,\n",
              "       0.25379095, 0.66504304, 0.2741354 , 0.18973165, 0.62528885,\n",
              "       0.31796707, 0.11727306, 0.09641667, 0.18832389, 0.4789891 ,\n",
              "       0.08178971, 0.30111183, 0.72874147, 0.90697253, 0.83377127,\n",
              "       0.20444472, 0.24802001, 0.06079889, 0.27665148, 0.8915611 ,\n",
              "       0.9611032 , 0.05111809, 0.57432951, 0.04673734, 0.15158958,\n",
              "       0.18135254, 0.53307147, 0.94938407, 0.76722197, 0.07612678,\n",
              "       0.16331178, 0.94400693, 0.41770354, 0.16844034, 0.96949603,\n",
              "       0.94250494, 0.24575901, 0.16959639, 0.23583279, 0.35911124,\n",
              "       0.21032986, 0.81250172, 0.25411867, 0.14786602, 0.23186785,\n",
              "       0.30795246, 0.18965852, 0.48516555, 0.47437015, 0.24473206,\n",
              "       0.54420115, 0.78986855, 0.85387641, 0.28828171, 0.88980731,\n",
              "       0.14620655, 0.81098751, 0.08806355, 0.80682181, 0.94752421,\n",
              "       0.98770186, 0.54317462, 0.77816966, 0.95504152, 0.07586711])"
            ]
          },
          "metadata": {},
          "execution_count": 78
        }
      ]
    },
    {
      "cell_type": "code",
      "source": [
        "fpr, tpr, threshold = roc_curve(y_test, y_pred_prob)"
      ],
      "metadata": {
        "id": "OerPmTQy6m7j"
      },
      "execution_count": null,
      "outputs": []
    },
    {
      "cell_type": "code",
      "source": [
        "fpr"
      ],
      "metadata": {
        "colab": {
          "base_uri": "https://localhost:8080/"
        },
        "id": "wpzgAyV6N91w",
        "outputId": "0b101063-38bc-4f14-bf30-137fbf3d6c01"
      },
      "execution_count": null,
      "outputs": [
        {
          "output_type": "execute_result",
          "data": {
            "text/plain": [
              "array([0.        , 0.        , 0.        , 0.00704225, 0.00704225,\n",
              "       0.01408451, 0.01408451, 0.02112676, 0.02112676, 0.03521127,\n",
              "       0.03521127, 0.04225352, 0.04225352, 0.05633803, 0.05633803,\n",
              "       0.06338028, 0.06338028, 0.07746479, 0.07746479, 0.0915493 ,\n",
              "       0.0915493 , 0.09859155, 0.09859155, 0.11267606, 0.11267606,\n",
              "       0.11971831, 0.11971831, 0.13380282, 0.13380282, 0.14084507,\n",
              "       0.14084507, 0.14788732, 0.14788732, 0.15492958, 0.15492958,\n",
              "       0.23239437, 0.23239437, 0.28873239, 0.28873239, 0.29577465,\n",
              "       0.29577465, 0.3028169 , 0.3028169 , 0.4084507 , 0.4084507 ,\n",
              "       0.51408451, 0.51408451, 0.52112676, 0.52112676, 0.5915493 ,\n",
              "       0.5915493 , 0.61971831, 0.61971831, 0.65492958, 0.65492958,\n",
              "       0.70422535, 0.70422535, 0.8028169 , 0.8028169 , 0.82394366,\n",
              "       0.82394366, 0.86619718, 0.86619718, 0.9084507 , 0.9084507 ,\n",
              "       0.91549296, 0.91549296, 0.92957746, 0.92957746, 0.93661972,\n",
              "       0.93661972, 0.95774648, 0.95774648, 0.99295775, 0.99295775,\n",
              "       1.        ])"
            ]
          },
          "metadata": {},
          "execution_count": 80
        }
      ]
    },
    {
      "cell_type": "code",
      "source": [
        "tpr"
      ],
      "metadata": {
        "id": "Vnwk20eR6m_1",
        "colab": {
          "base_uri": "https://localhost:8080/"
        },
        "outputId": "53fc825b-828f-4f70-bc63-3a55a00a6961"
      },
      "execution_count": null,
      "outputs": [
        {
          "output_type": "execute_result",
          "data": {
            "text/plain": [
              "array([0.        , 0.00632911, 0.53164557, 0.53164557, 0.59493671,\n",
              "       0.59493671, 0.64556962, 0.64556962, 0.66455696, 0.66455696,\n",
              "       0.67721519, 0.67721519, 0.6835443 , 0.6835443 , 0.70886076,\n",
              "       0.70886076, 0.74683544, 0.74683544, 0.76582278, 0.76582278,\n",
              "       0.78481013, 0.78481013, 0.79113924, 0.79113924, 0.79746835,\n",
              "       0.79746835, 0.80379747, 0.80379747, 0.8164557 , 0.8164557 ,\n",
              "       0.83544304, 0.83544304, 0.84177215, 0.84177215, 0.84810127,\n",
              "       0.84810127, 0.85443038, 0.85443038, 0.86708861, 0.86708861,\n",
              "       0.87341772, 0.87341772, 0.88607595, 0.88607595, 0.89240506,\n",
              "       0.89240506, 0.89873418, 0.89873418, 0.90506329, 0.90506329,\n",
              "       0.91139241, 0.91139241, 0.91772152, 0.91772152, 0.92405063,\n",
              "       0.92405063, 0.93670886, 0.93670886, 0.94303797, 0.94303797,\n",
              "       0.9556962 , 0.9556962 , 0.96202532, 0.96202532, 0.96835443,\n",
              "       0.96835443, 0.97468354, 0.97468354, 0.98101266, 0.98101266,\n",
              "       0.98734177, 0.98734177, 0.99367089, 0.99367089, 1.        ,\n",
              "       1.        ])"
            ]
          },
          "metadata": {},
          "execution_count": 81
        }
      ]
    },
    {
      "cell_type": "code",
      "source": [
        "threshold"
      ],
      "metadata": {
        "id": "aK3EmTGw6nD7",
        "colab": {
          "base_uri": "https://localhost:8080/"
        },
        "outputId": "a5ec5f5b-531e-4ded-b32e-ec91db959541"
      },
      "execution_count": null,
      "outputs": [
        {
          "output_type": "execute_result",
          "data": {
            "text/plain": [
              "array([       inf, 0.99814526, 0.81009427, 0.80682181, 0.72874147,\n",
              "       0.72313926, 0.67343497, 0.66837244, 0.64440802, 0.64112515,\n",
              "       0.62836506, 0.62796087, 0.62528885, 0.61448369, 0.59864183,\n",
              "       0.59409096, 0.55589431, 0.54803102, 0.5412839 , 0.53307147,\n",
              "       0.50964656, 0.4859453 , 0.48516555, 0.4789891 , 0.47437015,\n",
              "       0.47254108, 0.46942365, 0.46141478, 0.45158351, 0.44982165,\n",
              "       0.42049714, 0.41770354, 0.41419338, 0.41410411, 0.40591718,\n",
              "       0.33861765, 0.33554921, 0.3124673 , 0.30795246, 0.30121948,\n",
              "       0.30111183, 0.29996213, 0.29699122, 0.26339223, 0.26088241,\n",
              "       0.22330756, 0.21080089, 0.21032986, 0.20814561, 0.18965852,\n",
              "       0.18832389, 0.17827763, 0.17344476, 0.16844034, 0.16711894,\n",
              "       0.15158958, 0.14786602, 0.11727306, 0.11504863, 0.10715494,\n",
              "       0.10033704, 0.093381  , 0.09273888, 0.07895498, 0.07612678,\n",
              "       0.07586711, 0.07234521, 0.06079889, 0.05530637, 0.0543648 ,\n",
              "       0.05294433, 0.04673734, 0.04523728, 0.02315677, 0.02143247,\n",
              "       0.02083056])"
            ]
          },
          "metadata": {},
          "execution_count": 82
        }
      ]
    },
    {
      "cell_type": "code",
      "source": [
        "auc(fpr, tpr)"
      ],
      "metadata": {
        "colab": {
          "base_uri": "https://localhost:8080/"
        },
        "id": "FzAFiT7dOBFx",
        "outputId": "1381f08d-0a5e-4728-82d5-d9d3e387d9ba"
      },
      "execution_count": null,
      "outputs": [
        {
          "output_type": "execute_result",
          "data": {
            "text/plain": [
              "0.8849170975218399"
            ]
          },
          "metadata": {},
          "execution_count": 83
        }
      ]
    },
    {
      "cell_type": "code",
      "source": [
        "roc_auc = auc(fpr, tpr)"
      ],
      "metadata": {
        "id": "SsEw5hwAOBK0"
      },
      "execution_count": null,
      "outputs": []
    },
    {
      "cell_type": "code",
      "source": [
        "roc_auc"
      ],
      "metadata": {
        "colab": {
          "base_uri": "https://localhost:8080/"
        },
        "id": "J9myierDOBPi",
        "outputId": "620ee619-613d-4974-ab0b-b1a453792056"
      },
      "execution_count": null,
      "outputs": [
        {
          "output_type": "execute_result",
          "data": {
            "text/plain": [
              "0.8849170975218399"
            ]
          },
          "metadata": {},
          "execution_count": 85
        }
      ]
    },
    {
      "cell_type": "code",
      "source": [
        "plt.figure(figsize = (8, 6))\n",
        "plt.plot(fpr, tpr, color = 'darkorange', linewidth = 2, label = 'ROC curve (area=%0.2f)' %roc_auc)\n",
        "plt.plot([0, 1], [0, 1], color = 'navy', linewidth = 2, linestyle = '--')\n",
        "plt.xlim([0.0, 1.0])\n",
        "plt.ylim([0.0, 1.05])\n",
        "plt.title(\"ROC(Receiver Operating Characteristics) Curve\")\n",
        "plt.xlabel(\"False Positive Rate\")\n",
        "plt.ylabel(\"True Positive Rate\")\n",
        "plt.legend(loc = 'lower right')\n",
        "plt.show()"
      ],
      "metadata": {
        "colab": {
          "base_uri": "https://localhost:8080/",
          "height": 507
        },
        "id": "sktnX4GIOBT5",
        "outputId": "55b0aacc-75e1-4fd2-94eb-dfb34fb5e10e"
      },
      "execution_count": null,
      "outputs": [
        {
          "output_type": "display_data",
          "data": {
            "text/plain": [
              "<Figure size 800x600 with 1 Axes>"
            ],
            "image/png": "[encoded data removed]"
          },
          "metadata": {}
        }
      ]
    },
    {
      "cell_type": "code",
      "source": [
        "# y_pred is defined based on the cutoff (by default = 0.5)\n",
        "# but cutoff based on the data"
      ],
      "metadata": {
        "id": "dFpcKuW0OBYC"
      },
      "execution_count": null,
      "outputs": []
    },
    {
      "cell_type": "code",
      "source": [
        "# by default prediction class is decided with cutoff 0.5\n",
        "# but if you want to decide your own cuttoff you have to use precision recall accuracy tradeoff or sem=nsitivity specificity accuracy tradeodff"
      ],
      "metadata": {
        "id": "Kw7MML3KOBcP"
      },
      "execution_count": null,
      "outputs": []
    },
    {
      "cell_type": "code",
      "source": [
        "from sklearn.metrics import precision_score, recall_score, accuracy_score\n",
        "\n",
        "# Calculate precision, recall, and accuracy for different threshold probabilities\n",
        "thresholds = np.linspace(0, 1, 100)\n",
        "precisions = []\n",
        "recalls = []\n",
        "accuracies = []\n",
        "\n",
        "for threshold in thresholds:\n",
        "  y_pred_threshold = (y_pred_prob >= threshold).astype(int)\n",
        "  precision = precision_score(y_test, y_pred_threshold)\n",
        "  recall = recall_score(y_test, y_pred_threshold)\n",
        "  accuracy = accuracy_score(y_test, y_pred_threshold)\n",
        "  precisions.append(precision)\n",
        "  recalls.append(recall)\n",
        "  accuracies.append(accuracy)\n",
        "\n",
        "# Plot the precision, recall, and accuracy against threshold probabilities\n",
        "plt.figure(figsize = (10, 6))\n",
        "plt.plot(thresholds, precisions, label = 'Precision')\n",
        "plt.plot(thresholds, recalls, label = 'Recall')\n",
        "plt.plot(thresholds, accuracies, label = 'Accuracy')\n",
        "plt.xlabel(\"Threshold Probabilities\")\n",
        "plt.ylabel(\"Score\")\n",
        "plt.title(\"Precision, Recall, and Accuracy vs. Threshold Probability\")\n",
        "plt.legend()\n",
        "plt.grid(True)\n",
        "plt.show()"
      ],
      "metadata": {
        "id": "lavRQVJmOBgZ",
        "colab": {
          "base_uri": "https://localhost:8080/",
          "height": 424
        },
        "outputId": "cd74f83b-76ec-49a5-e579-009f0c3bc356"
      },
      "execution_count": null,
      "outputs": [
        {
          "output_type": "display_data",
          "data": {
            "text/plain": [
              "<Figure size 1000x600 with 1 Axes>"
            ],
            "image/png": "[encoded data removed]"
          },
          "metadata": {}
        }
      ]
    },
    {
      "cell_type": "code",
      "source": [
        "# 0.4 is my optimal threshold based on precision recall and accuracy tradeoff"
      ],
      "metadata": {
        "id": "NTcRU44qOBj4"
      },
      "execution_count": null,
      "outputs": []
    },
    {
      "cell_type": "code",
      "source": [
        "# most of the time this cutoff will be provived by team"
      ],
      "metadata": {
        "id": "vMpj0kScVdPH"
      },
      "execution_count": null,
      "outputs": []
    },
    {
      "cell_type": "code",
      "source": [
        "new_pred_levels = np.where(y_pred_prob > 0.4, 1, 0)"
      ],
      "metadata": {
        "id": "p88xe1RTVdSf"
      },
      "execution_count": null,
      "outputs": []
    },
    {
      "cell_type": "code",
      "source": [
        "new_pred_levels"
      ],
      "metadata": {
        "colab": {
          "base_uri": "https://localhost:8080/"
        },
        "id": "blSsohnpVtXR",
        "outputId": "e38a4b1c-6d0e-4a9c-b730-3106bb16a25e"
      },
      "execution_count": null,
      "outputs": [
        {
          "output_type": "execute_result",
          "data": {
            "text/plain": [
              "array([1, 0, 0, 0, 1, 0, 1, 0, 0, 1, 0, 1, 1, 0, 1, 1, 1, 1, 1, 0, 1, 1,\n",
              "       1, 0, 1, 1, 0, 1, 1, 0, 0, 1, 0, 1, 1, 1, 1, 0, 0, 1, 0, 0, 0, 1,\n",
              "       0, 0, 0, 0, 0, 0, 0, 0, 1, 1, 1, 0, 0, 0, 1, 1, 1, 1, 1, 0, 1, 0,\n",
              "       0, 0, 1, 1, 0, 0, 1, 1, 1, 0, 1, 0, 1, 1, 0, 0, 0, 0, 1, 0, 1, 1,\n",
              "       0, 0, 0, 1, 0, 1, 1, 0, 0, 1, 0, 1, 0, 1, 0, 1, 0, 1, 1, 0, 1, 1,\n",
              "       1, 1, 0, 0, 1, 0, 0, 1, 1, 0, 1, 0, 0, 1, 1, 0, 1, 0, 0, 0, 0, 0,\n",
              "       1, 0, 0, 0, 1, 0, 0, 1, 0, 1, 1, 1, 1, 1, 0, 0, 1, 1, 1, 1, 0, 1,\n",
              "       0, 0, 0, 0, 1, 1, 0, 1, 1, 1, 1, 1, 1, 1, 0, 1, 1, 0, 1, 0, 1, 1,\n",
              "       0, 0, 1, 1, 1, 0, 1, 0, 1, 1, 0, 1, 1, 0, 0, 1, 1, 0, 0, 1, 1, 0,\n",
              "       0, 1, 0, 0, 1, 1, 0, 0, 0, 0, 1, 1, 1, 1, 0, 0, 0, 1, 1, 1, 1, 0,\n",
              "       1, 1, 1, 1, 1, 1, 1, 0, 1, 0, 1, 1, 0, 1, 1, 0, 1, 0, 0, 1, 0, 0,\n",
              "       0, 0, 1, 0, 0, 1, 1, 1, 0, 0, 0, 0, 1, 1, 0, 1, 0, 0, 0, 1, 1, 1,\n",
              "       0, 0, 1, 1, 0, 1, 1, 0, 0, 0, 0, 0, 1, 0, 0, 0, 0, 0, 1, 1, 0, 1,\n",
              "       1, 1, 0, 1, 0, 1, 0, 1, 1, 1, 1, 1, 1, 0])"
            ]
          },
          "metadata": {},
          "execution_count": 98
        }
      ]
    },
    {
      "cell_type": "code",
      "source": [
        "confusion_matrix(y_test, new_pred_levels)"
      ],
      "metadata": {
        "colab": {
          "base_uri": "https://localhost:8080/"
        },
        "id": "sq7OAlgAVuzB",
        "outputId": "d9fe7555-0723-4c05-a448-e8b465ab07ea"
      },
      "execution_count": null,
      "outputs": [
        {
          "output_type": "execute_result",
          "data": {
            "text/plain": [
              "array([[119,  23],\n",
              "       [ 24, 134]])"
            ]
          },
          "metadata": {},
          "execution_count": 99
        }
      ]
    },
    {
      "cell_type": "code",
      "source": [
        "accuracy_score(y_test, new_pred_levels)"
      ],
      "metadata": {
        "colab": {
          "base_uri": "https://localhost:8080/"
        },
        "id": "ZDClmkHaVyrZ",
        "outputId": "2060dd58-cf00-4607-86c9-3d4014ce7c7b"
      },
      "execution_count": null,
      "outputs": [
        {
          "output_type": "execute_result",
          "data": {
            "text/plain": [
              "0.8433333333333334"
            ]
          },
          "metadata": {},
          "execution_count": 100
        }
      ]
    },
    {
      "cell_type": "code",
      "source": [
        "print(classification_report(y_test, new_pred_levels))"
      ],
      "metadata": {
        "colab": {
          "base_uri": "https://localhost:8080/"
        },
        "id": "7jMiaAO5V2f5",
        "outputId": "fb1b0f08-f40e-4673-e135-e30304ae5c95"
      },
      "execution_count": null,
      "outputs": [
        {
          "output_type": "stream",
          "name": "stdout",
          "text": [
            "              precision    recall  f1-score   support\n",
            "\n",
            "           0       0.83      0.84      0.84       142\n",
            "           1       0.85      0.85      0.85       158\n",
            "\n",
            "    accuracy                           0.84       300\n",
            "   macro avg       0.84      0.84      0.84       300\n",
            "weighted avg       0.84      0.84      0.84       300\n",
            "\n"
          ]
        }
      ]
    },
    {
      "cell_type": "code",
      "source": [
        "# cross validation\n",
        "from sklearn.model_selection import KFold\n",
        "cv = KFold(n_splits=5)"
      ],
      "metadata": {
        "id": "S4ibKzH5WG0s"
      },
      "execution_count": null,
      "outputs": []
    },
    {
      "cell_type": "code",
      "source": [
        "cv"
      ],
      "metadata": {
        "colab": {
          "base_uri": "https://localhost:8080/"
        },
        "id": "lTN9ynMeWPLc",
        "outputId": "14d29296-d394-471b-bc3f-542c443c21ac"
      },
      "execution_count": null,
      "outputs": [
        {
          "output_type": "execute_result",
          "data": {
            "text/plain": [
              "KFold(n_splits=5, random_state=None, shuffle=False)"
            ]
          },
          "metadata": {},
          "execution_count": 103
        }
      ]
    },
    {
      "cell_type": "code",
      "source": [
        "from sklearn.model_selection import cross_val_score\n",
        "acc = cross_val_score(model, X_train, y_train, cv = cv, )"
      ],
      "metadata": {
        "id": "jFtBYMmoWP2k"
      },
      "execution_count": null,
      "outputs": []
    },
    {
      "cell_type": "code",
      "source": [
        "np.mean(acc)"
      ],
      "metadata": {
        "colab": {
          "base_uri": "https://localhost:8080/"
        },
        "id": "WPR-JxNdWaoW",
        "outputId": "0a81c8cc-047d-4aac-eba3-d4969d040f6d"
      },
      "execution_count": null,
      "outputs": [
        {
          "output_type": "execute_result",
          "data": {
            "text/plain": [
              "0.8042857142857143"
            ]
          },
          "metadata": {},
          "execution_count": 106
        }
      ]
    }
  ]
}